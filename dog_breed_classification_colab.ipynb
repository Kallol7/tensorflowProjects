{
  "cells": [
    {
      "cell_type": "markdown",
      "metadata": {
        "id": "view-in-github",
        "colab_type": "text"
      },
      "source": [
        "<a href=\"https://colab.research.google.com/github/Kallol7/tensorflowProjects/blob/main/dog_breed_classification_colab.ipynb\" target=\"_parent\"><img src=\"https://colab.research.google.com/assets/colab-badge.svg\" alt=\"Open In Colab\"/></a>"
      ]
    },
    {
      "cell_type": "code",
      "execution_count": null,
      "metadata": {
        "id": "MLX-r9N0Uly4"
      },
      "outputs": [],
      "source": [
        "import os\n",
        "import numpy as np\n",
        "import pandas as pd\n",
        "import tensorflow as tf\n",
        "import matplotlib.pyplot as plt\n",
        "import seaborn as sns\n",
        "from imblearn.over_sampling import RandomOverSampler, SMOTE\n",
        "from imblearn.under_sampling import RandomUnderSampler"
      ]
    },
    {
      "cell_type": "code",
      "execution_count": null,
      "metadata": {
        "id": "A7bSUWdbUly6"
      },
      "outputs": [],
      "source": [
        "data_folders =[\"test\",\"train\",\"valid\"]"
      ]
    },
    {
      "cell_type": "code",
      "execution_count": null,
      "metadata": {
        "id": "iyU1Q5tEU31Y"
      },
      "outputs": [],
      "source": [
        "# from google.colab import drive\n",
        "# drive.mount('/content/drive')"
      ]
    },
    {
      "cell_type": "code",
      "execution_count": null,
      "metadata": {
        "id": "qQoUSS3cVfWH"
      },
      "outputs": [],
      "source": [
        "# !unzip \"/content/drive/MyDrive/Colab Notebooks/Dog Breed Classification/dog_breed.zip\" -d \"/content\""
      ]
    },
    {
      "cell_type": "code",
      "execution_count": null,
      "metadata": {
        "id": "wL-gA3ceUly6",
        "colab": {
          "base_uri": "https://localhost:8080/"
        },
        "outputId": "1caa0b25-8587-435b-fbcb-aa9ade56e67c"
      },
      "outputs": [
        {
          "output_type": "stream",
          "name": "stdout",
          "text": [
            "American  Spaniel\n"
          ]
        }
      ],
      "source": [
        "test_data_names = os.listdir(\"test\")\n",
        "train_data_names = os.listdir(\"train\")\n",
        "valid_data_names= os.listdir(\"valid\")\n",
        "assert test_data_names == train_data_names\n",
        "for v_name in valid_data_names:\n",
        "    if v_name not in test_data_names:\n",
        "        print(v_name)\n",
        "# add American  Spaniel to class_mapper"
      ]
    },
    {
      "cell_type": "code",
      "execution_count": null,
      "metadata": {
        "id": "2eV8POsrUly6",
        "colab": {
          "base_uri": "https://localhost:8080/"
        },
        "outputId": "e2b478bb-e9cf-47b5-b481-af72fcf6559d"
      },
      "outputs": [
        {
          "output_type": "execute_result",
          "data": {
            "text/plain": [
              "{'Rhodesian': 0,\n",
              " 'Malinois': 1,\n",
              " 'Pekinese': 2,\n",
              " 'Basset': 3,\n",
              " 'Clumber': 4,\n",
              " 'Doberman': 5,\n",
              " 'Chinese Crested': 6,\n",
              " 'Vizsla': 7,\n",
              " 'Bichon Frise': 8,\n",
              " 'African Wild Dog': 9,\n",
              " 'Chow': 10,\n",
              " 'Collie': 11,\n",
              " 'Bulldog': 12,\n",
              " 'Golden Retriever': 13,\n",
              " 'Bluetick': 14,\n",
              " 'Pit Bull': 15,\n",
              " 'Chihuahua': 16,\n",
              " 'Poodle': 17,\n",
              " 'French Bulldog': 18,\n",
              " 'Lhasa': 19,\n",
              " 'Dhole': 20,\n",
              " 'Cockapoo': 21,\n",
              " 'Elk Hound': 22,\n",
              " 'Coyote': 23,\n",
              " 'Boston Terrier': 24,\n",
              " 'Great Dane': 25,\n",
              " 'Maltese': 26,\n",
              " 'Groenendael': 27,\n",
              " 'Border Collie': 28,\n",
              " 'American Hairless': 29,\n",
              " 'Bull Terrier': 30,\n",
              " 'Yorkie': 31,\n",
              " 'Bermaise': 32,\n",
              " 'Scotch Terrier': 33,\n",
              " 'Bearded Collie': 34,\n",
              " 'Irish Spaniel': 35,\n",
              " 'Greyhound': 36,\n",
              " 'Rottweiler': 37,\n",
              " 'American Spaniel': 38,\n",
              " 'Shih-Tzu': 39,\n",
              " 'Corgi': 40,\n",
              " 'Dingo': 41,\n",
              " 'Siberian Husky': 42,\n",
              " 'Shar_Pei': 43,\n",
              " 'Cairn': 44,\n",
              " 'Labradoodle': 45,\n",
              " 'Afghan': 46,\n",
              " 'Pomeranian': 47,\n",
              " 'Bloodhound': 48,\n",
              " 'Cocker': 49,\n",
              " 'Labrador': 50,\n",
              " 'German Sheperd': 51,\n",
              " 'Schnauzer': 52,\n",
              " 'Newfoundland': 53,\n",
              " 'Irish Wolfhound': 54,\n",
              " 'Boxer': 55,\n",
              " 'Japanese Spaniel': 56,\n",
              " 'Great Perenees': 57,\n",
              " 'Dalmation': 58,\n",
              " 'Pug': 59,\n",
              " 'Bull Mastiff': 60,\n",
              " 'Beagle': 61,\n",
              " 'Blenheim': 62,\n",
              " 'Basenji': 63,\n",
              " 'Borzoi': 64,\n",
              " 'Mex Hairless': 65,\n",
              " 'Shiba Inu': 66,\n",
              " 'Saint Bernard': 67,\n",
              " 'Airedale': 68,\n",
              " 'Komondor': 69,\n",
              " 'American  Spaniel': 38}"
            ]
          },
          "metadata": {},
          "execution_count": 6
        }
      ],
      "source": [
        "class_map = {} # {class_name: index}\n",
        "for indx,name in enumerate(test_data_names):\n",
        "    class_map[name] = indx\n",
        "\n",
        "# to prevent class mismatch\n",
        "class_map[\"American  Spaniel\"] = class_map[\"American Spaniel\"]\n",
        "class_map"
      ]
    },
    {
      "cell_type": "code",
      "execution_count": null,
      "metadata": {
        "id": "Zfu99tcKUly7"
      },
      "outputs": [],
      "source": [
        "def load_data(path,class_names,batch_size,img_size):\n",
        "    class_indx = [class_map[name] for name in class_names]\n",
        "    return tf.keras.preprocessing.image_dataset_from_directory(\n",
        "        path,\n",
        "        labels=\"inferred\",\n",
        "        class_names=class_names,\n",
        "        color_mode=\"rgb\",\n",
        "        batch_size=batch_size,\n",
        "        image_size=img_size,\n",
        "        shuffle=True,\n",
        "        seed=42,\n",
        "        crop_to_aspect_ratio=False\n",
        "    )\n",
        "\n",
        "def scale(x,y):\n",
        "    return (x*1./255,y)\n",
        "\n",
        "def augment_images(image, label):\n",
        "    data_augmentation = tf.keras.Sequential([\n",
        "        tf.keras.layers.RandomFlip(\"horizontal_and_vertical\"),\n",
        "        tf.keras.layers.RandomRotation(0.2),\n",
        "    ])\n",
        "\n",
        "    return data_augmentation(image), label\n",
        "\n",
        "def augment_and_add(train_data):\n",
        "    combined_dataset = train_data\n",
        "    for i in range(10):\n",
        "        # Apply data augmentation to each image in the dataset\n",
        "        augmented_data = train_data.map(augment_images)\n",
        "        # Combine both datasets into one\n",
        "        combined_dataset = tf.data.Dataset.concatenate(combined_dataset, augmented_data)\n",
        "    return combined_dataset"
      ]
    },
    {
      "cell_type": "code",
      "execution_count": null,
      "metadata": {
        "id": "Gq1k-f391ARb",
        "colab": {
          "base_uri": "https://localhost:8080/"
        },
        "outputId": "3bbb3562-0550-4c3c-f047-8329be739a8c"
      },
      "outputs": [
        {
          "output_type": "stream",
          "name": "stdout",
          "text": [
            "Found 7946 files belonging to 70 classes.\n"
          ]
        }
      ],
      "source": [
        "batch_size = 8000 #10000\n",
        "img_size = (32,32)\n",
        "\n",
        "train_data = load_data('train',train_data_names,batch_size,img_size)\n",
        "train_data = train_data.map(scale)"
      ]
    },
    {
      "cell_type": "code",
      "execution_count": null,
      "metadata": {
        "id": "g-FmThFHdQ8i"
      },
      "outputs": [],
      "source": [
        "def draw_countplot(train_iter):\n",
        "    all_y = []\n",
        "    while True:\n",
        "      batch = None\n",
        "      try:\n",
        "        batch = train_iter.next()\n",
        "      except:\n",
        "        break\n",
        "      all_y.extend(batch[1])\n",
        "\n",
        "    sns.set(style='whitegrid',rc={\"figure.figsize\": (20, 6)},font_scale=1)\n",
        "    sns.countplot(x=all_y,dodge=True,width=.8,edgecolor=\"none\",palette=\"rocket\",order=pd.value_counts(all_y).index)\n",
        "    plt.xlabel(\"Class\")\n",
        "    plt.show()"
      ]
    },
    {
      "cell_type": "code",
      "execution_count": null,
      "metadata": {
        "id": "UTniV3WuKhs7",
        "colab": {
          "base_uri": "https://localhost:8080/",
          "height": 294
        },
        "outputId": "4b8dec19-2ede-4d43-9a07-bfb6178b9dfe"
      },
      "outputs": [
        {
          "output_type": "display_data",
          "data": {
            "text/plain": [
              "<Figure size 2000x600 with 1 Axes>"
            ],
            "image/png": "[encoded data removed]"
          },
          "metadata": {}
        }
      ],
      "source": [
        "# Visualize Class Imbalance\n",
        "train_iter= train_data.as_numpy_iterator()\n",
        "draw_countplot(train_iter)\n",
        "del train_iter"
      ]
    },
    {
      "cell_type": "code",
      "execution_count": null,
      "metadata": {
        "id": "KoYKTjjQI0w0"
      },
      "outputs": [],
      "source": [
        "def apply_resampling(train_data):\n",
        "    under = RandomUnderSampler(sampling_strategy=\"not minority\")\n",
        "    over = SMOTE(sampling_strategy=\"not majority\")\n",
        "\n",
        "    # Separate features and labels\n",
        "    train_features = []\n",
        "    train_labels = []\n",
        "    for batch in train_data:\n",
        "        train_features.append(batch[0])\n",
        "        train_labels.append(batch[1])\n",
        "    train_features = np.concatenate(train_features)\n",
        "    train_labels = np.concatenate(train_labels)\n",
        "\n",
        "    # Reshape the features for resampling\n",
        "    train_features = np.reshape(train_features, (train_features.shape[0], -1))\n",
        "\n",
        "    # Apply oversampling first\n",
        "    train_features, train_labels = over.fit_resample(train_features, train_labels)\n",
        "\n",
        "    # Apply undersampling\n",
        "    train_features, train_labels = under.fit_resample(train_features, train_labels)\n",
        "\n",
        "    # Reshape the features back to the original shape\n",
        "    train_features = np.reshape(train_features, (train_features.shape[0], *img_size, 3))\n",
        "\n",
        "    # Create a TensorFlow dataset from the resampled data\n",
        "    final_dataset = tf.data.Dataset.from_tensor_slices((train_features, train_labels))\n",
        "    final_dataset = final_dataset.shuffle(train_features.shape[0]).batch(batch_size)\n",
        "\n",
        "    num_train_examples = train_features.shape[0]\n",
        "    return final_dataset, num_train_examples\n",
        "\n",
        "def smote_and_undersample(train_data):\n",
        "    final_dataset, num_train_examples = apply_resampling(train_data)\n",
        "\n",
        "    assert isinstance(final_dataset, tf.data.Dataset)  # Ensure final_dataset is of type tf.data.Dataset\n",
        "    return final_dataset, num_train_examples"
      ]
    },
    {
      "cell_type": "code",
      "execution_count": null,
      "metadata": {
        "id": "LIFlkKonBlZT",
        "colab": {
          "base_uri": "https://localhost:8080/"
        },
        "outputId": "6f9b68aa-aee4-47b2-eb17-a4e7238ccffb"
      },
      "outputs": [
        {
          "output_type": "stream",
          "name": "stdout",
          "text": [
            "After resampling  13860 total images\n"
          ]
        }
      ],
      "source": [
        "train_data,num_train_examples = smote_and_undersample(train_data)\n",
        "print(\"After resampling \", num_train_examples, \"total images\")"
      ]
    },
    {
      "cell_type": "code",
      "execution_count": null,
      "metadata": {
        "id": "UtPQiL3x2voX",
        "colab": {
          "base_uri": "https://localhost:8080/",
          "height": 294
        },
        "outputId": "cafe8593-b61f-4ee3-8bc1-740873219447"
      },
      "outputs": [
        {
          "output_type": "display_data",
          "data": {
            "text/plain": [
              "<Figure size 2000x600 with 1 Axes>"
            ],
            "image/png": "[encoded data removed]"
          },
          "metadata": {}
        }
      ],
      "source": [
        "# Class distribution after balancing\n",
        "train_iter= train_data.as_numpy_iterator()\n",
        "draw_countplot(train_iter)\n",
        "del train_iter"
      ]
    },
    {
      "cell_type": "code",
      "execution_count": null,
      "metadata": {
        "id": "FWtXhtuH1Lgr",
        "colab": {
          "base_uri": "https://localhost:8080/"
        },
        "outputId": "cb0ef14c-3a94-4e69-91db-2f27440b511d"
      },
      "outputs": [
        {
          "output_type": "stream",
          "name": "stdout",
          "text": [
            "Found 700 files belonging to 70 classes.\n",
            "Found 700 files belonging to 70 classes.\n"
          ]
        }
      ],
      "source": [
        "train_data = augment_and_add(train_data)\n",
        "\n",
        "test_data = load_data('test', test_data_names,batch_size,img_size)\n",
        "test_data = test_data.map(scale)\n",
        "\n",
        "valid_data = load_data('valid', valid_data_names,batch_size,img_size)\n",
        "valid_data = valid_data.map(scale)"
      ]
    },
    {
      "cell_type": "code",
      "execution_count": null,
      "metadata": {
        "id": "AOzA80CrUly7"
      },
      "outputs": [],
      "source": [
        "# 10 augemted images + the original image = 11, hence num_train_examples*11\n",
        "num_train_examples = num_train_examples*11\n",
        "train_data = train_data.cache().repeat().shuffle(num_train_examples) # .batch(batch_size) already applied\n",
        "valid_data = valid_data.cache() # .batch(batch_size) already applied\n",
        "test_batch = test_data.repeat().as_numpy_iterator()"
      ]
    },
    {
      "cell_type": "code",
      "execution_count": null,
      "metadata": {
        "id": "u53HskpnUly7"
      },
      "outputs": [],
      "source": [
        "### Using softmax and SparseCategoricalCrossentropy has use.\n",
        "### Safter approach, use linear output(no activation on output layer)\n",
        "### and use SparseCategoricalCrossentropy(from_logits=True)\n",
        "def create_model(learning_rate=1e-3):\n",
        "    model = tf.keras.models.Sequential([\n",
        "        tf.keras.layers.Conv2D(64,kernel_size=(3,3),padding=\"same\",activation=tf.nn.relu,input_shape=(*img_size,3)),\n",
        "        tf.keras.layers.Conv2D(32,kernel_size=(3,3),padding=\"same\",activation=tf.nn.relu),\n",
        "        tf.keras.layers.Conv2D(32,kernel_size=(3,3),padding=\"same\",activation=tf.nn.relu),\n",
        "        tf.keras.layers.Conv2D(32,kernel_size=(3,3),padding=\"same\",activation=tf.nn.relu),\n",
        "        tf.keras.layers.Conv2D(32,kernel_size=(3,3),padding=\"same\",activation=tf.nn.relu),\n",
        "        tf.keras.layers.Conv2D(16,kernel_size=(3,3),padding=\"same\",activation=tf.nn.relu),\n",
        "        tf.keras.layers.Conv2D(16,kernel_size=(3,3),padding=\"same\",activation=tf.nn.relu),\n",
        "        tf.keras.layers.Conv2D(12,kernel_size=(3,3),padding=\"same\",activation=tf.nn.relu),\n",
        "        tf.keras.layers.MaxPooling2D(pool_size=(2,2),strides=2),\n",
        "        tf.keras.layers.Flatten(),\n",
        "        tf.keras.layers.Dense(units=75,activation=tf.nn.relu),\n",
        "        tf.keras.layers.Dropout(0.64),\n",
        "        tf.keras.layers.Dense(units=70)\n",
        "    ])\n",
        "\n",
        "    model.compile(optimizer= tf.optimizers.Adam(learning_rate),\n",
        "                loss= tf.losses.SparseCategoricalCrossentropy(from_logits=True),\n",
        "                metrics=[\"accuracy\"]\n",
        "    )\n",
        "    return model\n",
        "\n",
        "# Input will have the biggest dropout 0.8\n",
        "# Use dropout on hidden layers where lots of parameters and has a chance of overfitting\n",
        "# Good droupout range 0.5 to 0.8\n",
        "model = create_model(1e-3)"
      ]
    },
    {
      "cell_type": "code",
      "execution_count": null,
      "metadata": {
        "id": "nQOnL-YqUly8",
        "colab": {
          "base_uri": "https://localhost:8080/"
        },
        "outputId": "0e230670-2f60-4040-a6be-213b606218fb"
      },
      "outputs": [
        {
          "output_type": "stream",
          "name": "stdout",
          "text": [
            "Model: \"sequential\"\n",
            "_________________________________________________________________\n",
            " Layer (type)                Output Shape              Param #   \n",
            "=================================================================\n",
            " conv2d (Conv2D)             (None, 32, 32, 64)        1792      \n",
            "                                                                 \n",
            " conv2d_1 (Conv2D)           (None, 32, 32, 32)        18464     \n",
            "                                                                 \n",
            " conv2d_2 (Conv2D)           (None, 32, 32, 32)        9248      \n",
            "                                                                 \n",
            " conv2d_3 (Conv2D)           (None, 32, 32, 32)        9248      \n",
            "                                                                 \n",
            " conv2d_4 (Conv2D)           (None, 32, 32, 32)        9248      \n",
            "                                                                 \n",
            " conv2d_5 (Conv2D)           (None, 32, 32, 16)        4624      \n",
            "                                                                 \n",
            " conv2d_6 (Conv2D)           (None, 32, 32, 16)        2320      \n",
            "                                                                 \n",
            " conv2d_7 (Conv2D)           (None, 32, 32, 12)        1740      \n",
            "                                                                 \n",
            " max_pooling2d (MaxPooling2D  (None, 16, 16, 12)       0         \n",
            " )                                                               \n",
            "                                                                 \n",
            " flatten (Flatten)           (None, 3072)              0         \n",
            "                                                                 \n",
            " dense (Dense)               (None, 75)                230475    \n",
            "                                                                 \n",
            " dropout (Dropout)           (None, 75)                0         \n",
            "                                                                 \n",
            " dense_1 (Dense)             (None, 70)                5320      \n",
            "                                                                 \n",
            "=================================================================\n",
            "Total params: 292,479\n",
            "Trainable params: 292,479\n",
            "Non-trainable params: 0\n",
            "_________________________________________________________________\n"
          ]
        }
      ],
      "source": [
        "model.summary()"
      ]
    },
    {
      "cell_type": "code",
      "execution_count": null,
      "metadata": {
        "id": "S11hI6gJUly8"
      },
      "outputs": [],
      "source": [
        "def scheduler(epoch, lr):\n",
        "    if epoch%80==0:\n",
        "        return lr * tf.math.exp(-0.1)\n",
        "    else:\n",
        "        return lr"
      ]
    },
    {
      "cell_type": "code",
      "execution_count": null,
      "metadata": {
        "id": "iq28o2xzUly9"
      },
      "outputs": [],
      "source": [
        "#  validation_steps: Only relevant if `validation_data` is provided and\n",
        "#                 is a `tf.data` dataset. Total number of steps (batches of\n",
        "#                 samples) to draw before stopping when performing validation\n",
        "#                 at the end of every epoch. If 'validation_steps' is None,\n",
        "#                 validation will run until the `validation_data` dataset is\n",
        "#                 exhausted. In the case of an infinitely repeated dataset, it\n",
        "#                 will run into an infinite loop. If 'validation_steps' is\n",
        "#                 specified and only part of the dataset will be consumed, the\n",
        "#                 evaluation will start from the beginning of the dataset at each\n",
        "#                 epoch. This ensures that the same validation samples are used\n",
        "#                 every time."
      ]
    },
    {
      "cell_type": "code",
      "execution_count": null,
      "metadata": {
        "id": "jTXlLYa9Uly-",
        "colab": {
          "base_uri": "https://localhost:8080/"
        },
        "outputId": "4e632337-e621-4ee5-8d7c-80bf1fb6e8cd"
      },
      "outputs": [
        {
          "output_type": "stream",
          "name": "stdout",
          "text": [
            "Epoch 1/15000\n",
            "20/20 [==============================] - 100s 3s/step - loss: 4.2353 - accuracy: 0.0185 - val_loss: 4.2179 - val_accuracy: 0.0214 - lr: 9.0484e-04\n",
            "Epoch 2/15000\n",
            "20/20 [==============================] - 24s 1s/step - loss: 4.1368 - accuracy: 0.0342 - val_loss: 4.1366 - val_accuracy: 0.0386 - lr: 9.0484e-04\n",
            "Epoch 3/15000\n",
            "20/20 [==============================] - 21s 1s/step - loss: 4.0121 - accuracy: 0.0475 - val_loss: 4.0867 - val_accuracy: 0.0486 - lr: 9.0484e-04\n",
            "Epoch 4/15000\n",
            "20/20 [==============================] - 21s 1s/step - loss: 3.9133 - accuracy: 0.0584 - val_loss: 4.0211 - val_accuracy: 0.0671 - lr: 9.0484e-04\n",
            "Epoch 5/15000\n",
            "20/20 [==============================] - 22s 1s/step - loss: 3.8480 - accuracy: 0.0651 - val_loss: 4.0063 - val_accuracy: 0.0743 - lr: 9.0484e-04\n",
            "Epoch 6/15000\n",
            "20/20 [==============================] - 22s 1s/step - loss: 3.7697 - accuracy: 0.0752 - val_loss: 3.9719 - val_accuracy: 0.0857 - lr: 9.0484e-04\n",
            "Epoch 7/15000\n",
            "20/20 [==============================] - 24s 1s/step - loss: 3.7093 - accuracy: 0.0853 - val_loss: 3.9682 - val_accuracy: 0.0971 - lr: 9.0484e-04\n",
            "Epoch 8/15000\n",
            "20/20 [==============================] - 24s 1s/step - loss: 3.6581 - accuracy: 0.0930 - val_loss: 4.0257 - val_accuracy: 0.0857 - lr: 9.0484e-04\n",
            "Epoch 9/15000\n",
            "20/20 [==============================] - 24s 1s/step - loss: 3.6217 - accuracy: 0.0970 - val_loss: 3.9282 - val_accuracy: 0.1043 - lr: 9.0484e-04\n",
            "Epoch 10/15000\n",
            "20/20 [==============================] - 23s 1s/step - loss: 3.5590 - accuracy: 0.1091 - val_loss: 3.9395 - val_accuracy: 0.1200 - lr: 9.0484e-04\n",
            "Epoch 11/15000\n",
            "20/20 [==============================] - 23s 1s/step - loss: 3.5393 - accuracy: 0.1108 - val_loss: 3.9411 - val_accuracy: 0.1171 - lr: 9.0484e-04\n",
            "Epoch 12/15000\n",
            "20/20 [==============================] - 22s 1s/step - loss: 3.5461 - accuracy: 0.1117 - val_loss: 3.9774 - val_accuracy: 0.0986 - lr: 9.0484e-04\n",
            "Epoch 13/15000\n",
            "20/20 [==============================] - 22s 1s/step - loss: 3.4679 - accuracy: 0.1234 - val_loss: 3.9543 - val_accuracy: 0.1186 - lr: 9.0484e-04\n",
            "Epoch 14/15000\n",
            "20/20 [==============================] - 24s 1s/step - loss: 3.4263 - accuracy: 0.1314 - val_loss: 3.9535 - val_accuracy: 0.1286 - lr: 9.0484e-04\n",
            "Epoch 15/15000\n",
            "20/20 [==============================] - 22s 1s/step - loss: 3.3938 - accuracy: 0.1371 - val_loss: 3.9595 - val_accuracy: 0.1100 - lr: 9.0484e-04\n",
            "Epoch 16/15000\n",
            "20/20 [==============================] - 25s 1s/step - loss: 3.3676 - accuracy: 0.1402 - val_loss: 3.9754 - val_accuracy: 0.1271 - lr: 9.0484e-04\n",
            "Epoch 17/15000\n",
            "20/20 [==============================] - 23s 1s/step - loss: 3.3423 - accuracy: 0.1466 - val_loss: 3.9581 - val_accuracy: 0.1371 - lr: 9.0484e-04\n",
            "Epoch 18/15000\n",
            "20/20 [==============================] - 23s 1s/step - loss: 3.3405 - accuracy: 0.1467 - val_loss: 4.0264 - val_accuracy: 0.1186 - lr: 9.0484e-04\n",
            "Epoch 19/15000\n",
            "20/20 [==============================] - 24s 1s/step - loss: 3.2902 - accuracy: 0.1535 - val_loss: 3.9862 - val_accuracy: 0.1457 - lr: 9.0484e-04\n",
            "Epoch 20/15000\n",
            "20/20 [==============================] - 22s 1s/step - loss: 3.2700 - accuracy: 0.1565 - val_loss: 4.0189 - val_accuracy: 0.1314 - lr: 9.0484e-04\n",
            "Epoch 21/15000\n",
            "20/20 [==============================] - 24s 1s/step - loss: 3.2602 - accuracy: 0.1600 - val_loss: 4.0082 - val_accuracy: 0.1257 - lr: 9.0484e-04\n",
            "Epoch 22/15000\n",
            "20/20 [==============================] - 22s 1s/step - loss: 3.2350 - accuracy: 0.1630 - val_loss: 4.0203 - val_accuracy: 0.1514 - lr: 9.0484e-04\n",
            "Epoch 23/15000\n",
            "20/20 [==============================] - 24s 1s/step - loss: 3.2481 - accuracy: 0.1616 - val_loss: 4.0199 - val_accuracy: 0.1357 - lr: 9.0484e-04\n",
            "Epoch 24/15000\n",
            "20/20 [==============================] - 23s 1s/step - loss: 3.2226 - accuracy: 0.1655 - val_loss: 4.0171 - val_accuracy: 0.1557 - lr: 9.0484e-04\n",
            "Epoch 25/15000\n",
            "20/20 [==============================] - 24s 1s/step - loss: 3.2125 - accuracy: 0.1676 - val_loss: 4.0370 - val_accuracy: 0.1414 - lr: 9.0484e-04\n",
            "Epoch 26/15000\n",
            "20/20 [==============================] - ETA: 0s - loss: 3.2116 - accuracy: 0.1677"
          ]
        }
      ],
      "source": [
        "steps_per_epoch = tf.math.ceil(num_train_examples/batch_size)\n",
        "validation_steps = tf.math.ceil(700/batch_size)\n",
        "decay = tf.keras.callbacks.LearningRateScheduler(scheduler)\n",
        "early_stop = tf.keras.callbacks.EarlyStopping(monitor=\"val_accuracy\",min_delta=0.001,patience=300,mode=\"max\",restore_best_weights=True)\n",
        "history = model.fit(train_data,epochs=15000,validation_data=valid_data,steps_per_epoch=steps_per_epoch,validation_steps=validation_steps,callbacks=[early_stop, decay])"
      ]
    },
    {
      "cell_type": "code",
      "execution_count": null,
      "metadata": {
        "id": "LEdb6OYjUly-"
      },
      "outputs": [],
      "source": [
        "#  remove previous checkpoint\n",
        "for file in os.listdir(\"/content/drive/MyDrive/Colab Notebooks/Dog Breed Classification/checkpoints\"):\n",
        "    os.remove(os.path.join(\"/content/drive/MyDrive/Colab Notebooks/Dog Breed Classification/checkpoints\",file))\n",
        "\n",
        "#  Save the model\n",
        "model.save(\"/content/drive/MyDrive/Colab Notebooks/Dog Breed Classification/checkpoints/first\",save_format=\"tf\")\n",
        "\n",
        "# #  Restore the weights after compiling a new model instance\n",
        "# model = model.load('/content/drive/MyDrive/Colab Notebooks/Dog Breed Classification/checkpoints/first.tf')"
      ]
    },
    {
      "cell_type": "code",
      "execution_count": null,
      "metadata": {
        "id": "Z7IRxuyxUly-"
      },
      "outputs": [],
      "source": [
        "batch= test_batch.next()\n",
        "batch = batch[:16]\n",
        "res = model.predict(batch[0])\n",
        "\n",
        "fig,ax = plt.subplots(2,8,figsize=(9,3))\n",
        "num = 0\n",
        "for i in range(2):\n",
        "    for j in range(8):\n",
        "        true_label = res[num].argmax()\n",
        "        predicted = batch[1][num]\n",
        "        ax[i,j].imshow(batch[0][num])\n",
        "        plt.rcParams.update({'font.size': 4})\n",
        "        ax[i,j].set_title(f\"Breed: {test_data_names[true_label]}\")\n",
        "        plt.rcParams.update({'font.size': 4})\n",
        "        ax[i,j].set_xlabel(f\"Predicted:\\n{test_data_names[predicted]}\")\n",
        "        num+=1\n",
        "fig.tight_layout(h_pad=0.6,w_pad=3)\n",
        "plt.show()"
      ]
    },
    {
      "cell_type": "code",
      "execution_count": null,
      "metadata": {
        "id": "LgU33xvVUly_"
      },
      "outputs": [],
      "source": [
        "model.evaluate(test_data)"
      ]
    }
  ],
  "metadata": {
    "accelerator": "GPU",
    "colab": {
      "provenance": [],
      "gpuType": "T4",
      "include_colab_link": true
    },
    "kernelspec": {
      "display_name": "Python 3",
      "name": "python3"
    },
    "language_info": {
      "codemirror_mode": {
        "name": "ipython",
        "version": 3
      },
      "file_extension": ".py",
      "mimetype": "text/x-python",
      "name": "python",
      "nbconvert_exporter": "python",
      "pygments_lexer": "ipython3",
      "version": "3.11.3"
    }
  },
  "nbformat": 4,
  "nbformat_minor": 0
}