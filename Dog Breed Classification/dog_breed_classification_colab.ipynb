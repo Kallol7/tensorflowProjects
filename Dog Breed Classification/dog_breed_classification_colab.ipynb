{
  "cells": [
    {
      "cell_type": "markdown",
      "metadata": {
        "id": "view-in-github",
        "colab_type": "text"
      },
      "source": [
        "<a href=\"https://colab.research.google.com/github/Kallol7/tensorflowProjects/blob/main/Dog%20Breed%20Classification/dog_breed_classification_colab.ipynb\" target=\"_parent\"><img src=\"https://colab.research.google.com/assets/colab-badge.svg\" alt=\"Open In Colab\"/></a>"
      ]
    },
    {
      "cell_type": "code",
      "execution_count": 1,
      "metadata": {
        "id": "MLX-r9N0Uly4"
      },
      "outputs": [],
      "source": [
        "import os\n",
        "import numpy as np\n",
        "import pandas as pd\n",
        "import tensorflow as tf\n",
        "import matplotlib.pyplot as plt\n",
        "import seaborn as sns\n",
        "from imblearn.over_sampling import SMOTE\n",
        "from imblearn.under_sampling import RandomUnderSampler\n",
        "import json"
      ]
    },
    {
      "cell_type": "code",
      "execution_count": 2,
      "metadata": {
        "id": "A7bSUWdbUly6"
      },
      "outputs": [],
      "source": [
        "data_folders =[\"test\",\"train\",\"valid\"]"
      ]
    },
    {
      "cell_type": "code",
      "execution_count": 3,
      "metadata": {
        "id": "iyU1Q5tEU31Y",
        "colab": {
          "base_uri": "https://localhost:8080/"
        },
        "outputId": "1eb5d594-52a1-405b-88bd-da11d22de0ec"
      },
      "outputs": [
        {
          "output_type": "stream",
          "name": "stdout",
          "text": [
            "Mounted at /content/drive\n"
          ]
        }
      ],
      "source": [
        "# from google.colab import drive\n",
        "# drive.mount('/content/drive')"
      ]
    },
    {
      "cell_type": "code",
      "execution_count": null,
      "metadata": {
        "id": "qQoUSS3cVfWH"
      },
      "outputs": [],
      "source": [
        "# !unzip \"/content/drive/MyDrive/Colab Notebooks/Dog Breed Classification/dog_breed.zip\" -d \"/content\""
      ]
    },
    {
      "cell_type": "code",
      "execution_count": 5,
      "metadata": {
        "id": "wL-gA3ceUly6",
        "colab": {
          "base_uri": "https://localhost:8080/"
        },
        "outputId": "03ecbcd4-cbe7-46c4-d7e1-28d9b37b9dfc"
      },
      "outputs": [
        {
          "output_type": "stream",
          "name": "stdout",
          "text": [
            "'American  Spaniel' need to be fixed\n"
          ]
        }
      ],
      "source": [
        "test_data_names = os.listdir(\"test\")\n",
        "train_data_names = os.listdir(\"train\")\n",
        "valid_data_names= os.listdir(\"valid\")\n",
        "assert test_data_names == train_data_names\n",
        "\n",
        "# Look for class name mismatch\n",
        "for v_name in valid_data_names:\n",
        "    if v_name not in test_data_names:\n",
        "        print(f\"'{v_name}' need to be fixed\")"
      ]
    },
    {
      "cell_type": "code",
      "execution_count": 6,
      "metadata": {
        "colab": {
          "base_uri": "https://localhost:8080/"
        },
        "id": "2eV8POsrUly6",
        "outputId": "656e027f-46e8-4437-c062-721b46805d58"
      },
      "outputs": [
        {
          "output_type": "execute_result",
          "data": {
            "text/plain": [
              "{'Afghan': 0,\n",
              " 'African Wild Dog': 1,\n",
              " 'Airedale': 2,\n",
              " 'American Hairless': 3,\n",
              " 'American Spaniel': 4,\n",
              " 'Basenji': 5,\n",
              " 'Basset': 6,\n",
              " 'Beagle': 7,\n",
              " 'Bearded Collie': 8,\n",
              " 'Bermaise': 9,\n",
              " 'Bichon Frise': 10,\n",
              " 'Blenheim': 11,\n",
              " 'Bloodhound': 12,\n",
              " 'Bluetick': 13,\n",
              " 'Border Collie': 14,\n",
              " 'Borzoi': 15,\n",
              " 'Boston Terrier': 16,\n",
              " 'Boxer': 17,\n",
              " 'Bull Mastiff': 18,\n",
              " 'Bull Terrier': 19,\n",
              " 'Bulldog': 20,\n",
              " 'Cairn': 21,\n",
              " 'Chihuahua': 22,\n",
              " 'Chinese Crested': 23,\n",
              " 'Chow': 24,\n",
              " 'Clumber': 25,\n",
              " 'Cockapoo': 26,\n",
              " 'Cocker': 27,\n",
              " 'Collie': 28,\n",
              " 'Corgi': 29,\n",
              " 'Coyote': 30,\n",
              " 'Dalmation': 31,\n",
              " 'Dhole': 32,\n",
              " 'Dingo': 33,\n",
              " 'Doberman': 34,\n",
              " 'Elk Hound': 35,\n",
              " 'French Bulldog': 36,\n",
              " 'German Sheperd': 37,\n",
              " 'Golden Retriever': 38,\n",
              " 'Great Dane': 39,\n",
              " 'Great Perenees': 40,\n",
              " 'Greyhound': 41,\n",
              " 'Groenendael': 42,\n",
              " 'Irish Spaniel': 43,\n",
              " 'Irish Wolfhound': 44,\n",
              " 'Japanese Spaniel': 45,\n",
              " 'Komondor': 46,\n",
              " 'Labradoodle': 47,\n",
              " 'Labrador': 48,\n",
              " 'Lhasa': 49,\n",
              " 'Malinois': 50,\n",
              " 'Maltese': 51,\n",
              " 'Mex Hairless': 52,\n",
              " 'Newfoundland': 53,\n",
              " 'Pekinese': 54,\n",
              " 'Pit Bull': 55,\n",
              " 'Pomeranian': 56,\n",
              " 'Poodle': 57,\n",
              " 'Pug': 58,\n",
              " 'Rhodesian': 59,\n",
              " 'Rottweiler': 60,\n",
              " 'Saint Bernard': 61,\n",
              " 'Schnauzer': 62,\n",
              " 'Scotch Terrier': 63,\n",
              " 'Shar_Pei': 64,\n",
              " 'Shiba Inu': 65,\n",
              " 'Shih-Tzu': 66,\n",
              " 'Siberian Husky': 67,\n",
              " 'Vizsla': 68,\n",
              " 'Yorkie': 69}"
            ]
          },
          "metadata": {},
          "execution_count": 6
        }
      ],
      "source": [
        "class_map = {} # {class_name: index}\n",
        "for indx,name in enumerate(sorted(train_data_names)):\n",
        "    class_map[name] = indx\n",
        "class_map"
      ]
    },
    {
      "cell_type": "code",
      "execution_count": 7,
      "metadata": {
        "colab": {
          "base_uri": "https://localhost:8080/"
        },
        "id": "eIrhSnQ4uhuT",
        "outputId": "294133e4-ddf3-4ede-b7b0-410a9da6910a"
      },
      "outputs": [
        {
          "output_type": "stream",
          "name": "stdout",
          "text": [
            "'American  Spaniel' folder in validation renamed to 'American Spaniel'\n"
          ]
        }
      ],
      "source": [
        "# to prevent class mismatch, only once\n",
        "try:\n",
        "  # current folder: \"content\"\n",
        "  os.rename(\"./valid/American  Spaniel\", \"./valid/American Spaniel\") # (source,destination)\n",
        "  print(\"'American  Spaniel' folder in validation renamed to 'American Spaniel'\")\n",
        "except:\n",
        "  print(\"Alredy renamed!\")"
      ]
    },
    {
      "cell_type": "code",
      "execution_count": 8,
      "metadata": {
        "colab": {
          "base_uri": "https://localhost:8080/"
        },
        "id": "bJfko8l90LrE",
        "outputId": "f82543b9-ca8a-4d4d-95ff-387a42d913d3"
      },
      "outputs": [
        {
          "output_type": "stream",
          "name": "stdout",
          "text": [
            "No more fix needed\n"
          ]
        }
      ],
      "source": [
        "# Final check for class name mismatch\n",
        "valid_data_names= os.listdir(\"valid\")\n",
        "found = False\n",
        "for v_name in valid_data_names:\n",
        "    if v_name not in test_data_names:\n",
        "        print(f\"'{v_name}' need to be fixed\")\n",
        "        found = True\n",
        "if not found:\n",
        "    print(\"No more fix needed\")"
      ]
    },
    {
      "cell_type": "code",
      "execution_count": 9,
      "metadata": {
        "id": "Zfu99tcKUly7"
      },
      "outputs": [],
      "source": [
        "def load_data(directory,class_names,batch_size,img_size):\n",
        "    class_indx = [class_map[name] for name in class_names]\n",
        "    return tf.keras.preprocessing.image_dataset_from_directory(\n",
        "        directory,\n",
        "        labels=\"inferred\",\n",
        "        label_mode='int',\n",
        "        class_names=list(class_map.keys()),\n",
        "        color_mode=\"rgb\",\n",
        "        batch_size=batch_size,\n",
        "        image_size=img_size,\n",
        "        shuffle=True,\n",
        "        seed=42,\n",
        "        crop_to_aspect_ratio=False\n",
        "    )\n",
        "\n",
        "def scale(x,y):\n",
        "    return (x*1./255,y)\n",
        "\n",
        "def augment_images(image, label):\n",
        "    data_augmentation = tf.keras.Sequential([\n",
        "        tf.keras.layers.RandomFlip(\"horizontal_and_vertical\"),\n",
        "        tf.keras.layers.RandomRotation(0.2),\n",
        "    ])\n",
        "\n",
        "    return data_augmentation(image), label\n",
        "\n",
        "def augment_and_add(train_data):\n",
        "    combined_dataset = train_data\n",
        "    for i in range(10):\n",
        "        # Apply data augmentation to each image in the dataset\n",
        "        augmented_data = train_data.map(augment_images)\n",
        "        # Combine both datasets into one\n",
        "        combined_dataset = tf.data.Dataset.concatenate(combined_dataset, augmented_data)\n",
        "    return combined_dataset"
      ]
    },
    {
      "cell_type": "code",
      "execution_count": 10,
      "metadata": {
        "colab": {
          "base_uri": "https://localhost:8080/"
        },
        "id": "Gq1k-f391ARb",
        "outputId": "1f2e8ab6-4bf9-4099-f824-1bdd8262d18b"
      },
      "outputs": [
        {
          "output_type": "stream",
          "name": "stdout",
          "text": [
            "Found 7946 files belonging to 70 classes.\n"
          ]
        }
      ],
      "source": [
        "batch_size = 8000 #10000\n",
        "img_size = (32,32)\n",
        "\n",
        "train_data = load_data('train',train_data_names,batch_size,img_size)\n",
        "train_data = train_data.map(scale)"
      ]
    },
    {
      "cell_type": "code",
      "execution_count": 11,
      "metadata": {
        "id": "g-FmThFHdQ8i"
      },
      "outputs": [],
      "source": [
        "def draw_countplot(train_iter):\n",
        "    all_y = []\n",
        "    while True:\n",
        "      batch = None\n",
        "      try:\n",
        "        batch = train_iter.next()\n",
        "      except:\n",
        "        break\n",
        "      all_y.extend(batch[1])\n",
        "\n",
        "    sns.set(style='whitegrid',rc={\"figure.figsize\": (20, 6)},font_scale=1)\n",
        "    sns.countplot(x=all_y,dodge=True,width=.8,edgecolor=\"none\",palette=\"rocket\",order=pd.value_counts(all_y).index)\n",
        "    plt.xlabel(\"Class\")\n",
        "    plt.show()"
      ]
    },
    {
      "cell_type": "code",
      "execution_count": 12,
      "metadata": {
        "colab": {
          "base_uri": "https://localhost:8080/",
          "height": 284
        },
        "id": "UTniV3WuKhs7",
        "outputId": "cc220798-35af-4e82-b106-443fe5c17143"
      },
      "outputs": [
        {
          "output_type": "display_data",
          "data": {
            "text/plain": [
              "<Figure size 2000x600 with 1 Axes>"
            ],
            "image/png": "[encoded data removed]"
          },
          "metadata": {}
        }
      ],
      "source": [
        "# Visualize Class Imbalance\n",
        "train_iter= train_data.as_numpy_iterator()\n",
        "draw_countplot(train_iter)\n",
        "del train_iter"
      ]
    },
    {
      "cell_type": "code",
      "execution_count": 13,
      "metadata": {
        "id": "KoYKTjjQI0w0"
      },
      "outputs": [],
      "source": [
        "def apply_resampling(train_data):\n",
        "    under = RandomUnderSampler(sampling_strategy=\"not minority\")\n",
        "    over = SMOTE(sampling_strategy=\"not majority\")\n",
        "\n",
        "    # Separate features and labels\n",
        "    train_features = []\n",
        "    train_labels = []\n",
        "    for batch in train_data:\n",
        "        train_features.append(batch[0])\n",
        "        train_labels.append(batch[1])\n",
        "    train_features = np.concatenate(train_features)\n",
        "    train_labels = np.concatenate(train_labels)\n",
        "\n",
        "    # Reshape the features for resampling\n",
        "    train_features = np.reshape(train_features, (train_features.shape[0], -1))\n",
        "\n",
        "    # Apply oversampling first\n",
        "    train_features, train_labels = over.fit_resample(train_features, train_labels)\n",
        "\n",
        "    # Apply undersampling\n",
        "    train_features, train_labels = under.fit_resample(train_features, train_labels)\n",
        "\n",
        "    # Reshape the features back to the original shape\n",
        "    train_features = np.reshape(train_features, (train_features.shape[0], *img_size, 3))\n",
        "\n",
        "    # Create a TensorFlow dataset from the resampled data\n",
        "    final_dataset = tf.data.Dataset.from_tensor_slices((train_features, train_labels))\n",
        "    final_dataset = final_dataset.shuffle(train_features.shape[0]).batch(batch_size)\n",
        "\n",
        "    num_train_examples = train_features.shape[0]\n",
        "    return final_dataset, num_train_examples\n",
        "\n",
        "def smote_and_undersample(train_data):\n",
        "    final_dataset, num_train_examples = apply_resampling(train_data)\n",
        "\n",
        "    assert isinstance(final_dataset, tf.data.Dataset)  # Ensure final_dataset is of type tf.data.Dataset\n",
        "    return final_dataset, num_train_examples"
      ]
    },
    {
      "cell_type": "code",
      "execution_count": 14,
      "metadata": {
        "colab": {
          "base_uri": "https://localhost:8080/"
        },
        "id": "LIFlkKonBlZT",
        "outputId": "d1621c70-d592-47c3-f8d9-0c715c9c9c9f"
      },
      "outputs": [
        {
          "output_type": "stream",
          "name": "stdout",
          "text": [
            "After resampling  13860 total images\n"
          ]
        }
      ],
      "source": [
        "train_data,num_train_examples = smote_and_undersample(train_data)\n",
        "print(\"After resampling \", num_train_examples, \"total images\")"
      ]
    },
    {
      "cell_type": "code",
      "execution_count": 15,
      "metadata": {
        "colab": {
          "base_uri": "https://localhost:8080/",
          "height": 284
        },
        "id": "UtPQiL3x2voX",
        "outputId": "9a90bcb3-ef33-4d57-957c-697224f02f05"
      },
      "outputs": [
        {
          "output_type": "display_data",
          "data": {
            "text/plain": [
              "<Figure size 2000x600 with 1 Axes>"
            ],
            "image/png": "[encoded data removed]"
          },
          "metadata": {}
        }
      ],
      "source": [
        "# Class distribution after balancing\n",
        "train_iter= train_data.as_numpy_iterator()\n",
        "draw_countplot(train_iter)\n",
        "del train_iter"
      ]
    },
    {
      "cell_type": "code",
      "execution_count": 16,
      "metadata": {
        "colab": {
          "base_uri": "https://localhost:8080/"
        },
        "id": "FWtXhtuH1Lgr",
        "outputId": "194dce2e-502e-48df-ec4f-a860b63b12ef"
      },
      "outputs": [
        {
          "output_type": "stream",
          "name": "stdout",
          "text": [
            "Found 700 files belonging to 70 classes.\n",
            "Found 700 files belonging to 70 classes.\n"
          ]
        }
      ],
      "source": [
        "train_data = augment_and_add(train_data)\n",
        "\n",
        "test_data = load_data('test', test_data_names,batch_size,img_size)\n",
        "test_data = test_data.map(scale)\n",
        "\n",
        "valid_data = load_data('valid', valid_data_names,batch_size,img_size)\n",
        "valid_data = valid_data.map(scale)"
      ]
    },
    {
      "cell_type": "code",
      "execution_count": 17,
      "metadata": {
        "id": "AOzA80CrUly7"
      },
      "outputs": [],
      "source": [
        "# 10 augemted images + the original image = 11, hence num_train_examples*11\n",
        "num_train_examples = num_train_examples*11\n",
        "train_data = train_data.cache().repeat().shuffle(num_train_examples) # .batch(batch_size) already applied\n",
        "valid_data = valid_data.cache() # .batch(batch_size) already applied\n",
        "test_batch = test_data.repeat().as_numpy_iterator()"
      ]
    },
    {
      "cell_type": "code",
      "source": [
        "# Early stopping\n",
        "early_stop = tf.keras.callbacks.EarlyStopping(\n",
        "    monitor=\"val_accuracy\",\n",
        "    min_delta=0.001,\n",
        "    patience=300,\n",
        "    mode=\"max\",\n",
        "    restore_best_weights=True\n",
        ")\n",
        "\n",
        "# For learning rate decay\n",
        "def lr_scheduler(epoch, lr):\n",
        "    if epoch%80==0:\n",
        "      return lr * tf.math.exp(-0.1)\n",
        "    else:\n",
        "      return lr\n",
        "lr_decay = tf.keras.callbacks.LearningRateScheduler(lr_scheduler)"
      ],
      "metadata": {
        "id": "6zPL2X15ekWp"
      },
      "execution_count": 20,
      "outputs": []
    },
    {
      "cell_type": "code",
      "execution_count": 21,
      "metadata": {
        "id": "S11hI6gJUly8"
      },
      "outputs": [],
      "source": [
        "# checkpoint path\n",
        "save_path = \"/content/drive/MyDrive/Colab Notebooks/Dog Breed Classification/checkpoints/\"\n",
        "\n",
        "# callback to save each epoch\n",
        "save_last_epoch = tf.keras.callbacks.ModelCheckpoint(\n",
        "    filepath=save_path+\"last_epoch.h5\",\n",
        "    save_weights_only=False,\n",
        "    save_freq='epoch',\n",
        "    verbose=1\n",
        ")\n",
        "\n",
        "# get the best validation accuracy from previous model fit\n",
        "best_val_accuracy = float('-inf')\n",
        "with open(save_path+\"best_val_accuracy.json\",\"r\") as f:\n",
        "    best_val_accuracy = max(best_val_accuracy,json.load(f))\n",
        "\n",
        "# callback to save best model\n",
        "class SaveBestModel(tf.keras.callbacks.Callback):\n",
        "    def on_epoch_end(self, epoch, logs):\n",
        "        current_val_accuracy = logs.get('val_accuracy')\n",
        "        global best_val_accuracy\n",
        "        if current_val_accuracy > best_val_accuracy:\n",
        "            best_val_accuracy = current_val_accuracy  # update\n",
        "            self.model.save(save_path+\"best_model.h5\")  # update by overwriting\n",
        "            with open(save_path+\"best_val_accuracy.json\",\"w\") as f:\n",
        "                json.dump(best_val_accuracy,f)  # update by overwriting"
      ]
    },
    {
      "cell_type": "code",
      "execution_count": 18,
      "metadata": {
        "id": "u53HskpnUly7"
      },
      "outputs": [],
      "source": [
        "def create_model(learning_rate=1e-3):\n",
        "    # Use dropout on hidden layers when there are\n",
        "    # lots of parameters and has a chance of overfitting.\n",
        "    # Good droupout range 0.5 to 0.8\n",
        "    model = tf.keras.models.Sequential([\n",
        "        tf.keras.layers.Conv2D(64,kernel_size=(3,3),padding=\"same\",activation=tf.nn.relu,input_shape=(*img_size,3)),\n",
        "        tf.keras.layers.Conv2D(32,kernel_size=(3,3),padding=\"same\",activation=tf.nn.relu),\n",
        "        tf.keras.layers.Conv2D(32,kernel_size=(3,3),padding=\"same\",activation=tf.nn.relu),\n",
        "        tf.keras.layers.Conv2D(32,kernel_size=(3,3),padding=\"same\",activation=tf.nn.relu),\n",
        "        tf.keras.layers.Conv2D(32,kernel_size=(3,3),padding=\"same\",activation=tf.nn.relu),\n",
        "        tf.keras.layers.Conv2D(16,kernel_size=(3,3),padding=\"same\",activation=tf.nn.relu),\n",
        "        tf.keras.layers.Conv2D(16,kernel_size=(3,3),padding=\"same\",activation=tf.nn.relu),\n",
        "        tf.keras.layers.Conv2D(12,kernel_size=(3,3),padding=\"same\",activation=tf.nn.relu),\n",
        "        tf.keras.layers.MaxPooling2D(pool_size=(2,2),strides=2),\n",
        "        tf.keras.layers.Flatten(),\n",
        "        tf.keras.layers.Dense(units=75,activation=tf.nn.relu),\n",
        "        tf.keras.layers.Dropout(0.72),\n",
        "        tf.keras.layers.Dense(units=70)\n",
        "    ])\n",
        "\n",
        "    # Using softmax and SparseCategoricalCrossentropy can have issues.\n",
        "    # Safter approach, use linear output(no activation on output layer) and\n",
        "    # use SparseCategoricalCrossentropy(from_logits=True)\n",
        "    model.compile(\n",
        "        optimizer= tf.optimizers.Adam(learning_rate),\n",
        "        loss= tf.losses.SparseCategoricalCrossentropy(from_logits=True),\n",
        "        metrics=[\"accuracy\"]\n",
        "    )\n",
        "    return model"
      ]
    },
    {
      "cell_type": "code",
      "source": [
        "\"\"\"\n",
        "Whenever model structure is changed,\n",
        "put \"-Infinity\" (without quotes)\n",
        "inside best_val_accuracy.json file.\n",
        "Otherwise code will fit the same old model.\n",
        "\"\"\"\n",
        "# Load the last saved model from checkpoint or use the new model\n",
        "model = None\n",
        "if best_val_accuracy > float('-inf'):\n",
        "    model = tf.keras.models.load_model(save_path+\"last_epoch.h5\")\n",
        "else:\n",
        "    model = create_model(1e-3)"
      ],
      "metadata": {
        "id": "sJcsHvn3CQ20"
      },
      "execution_count": 23,
      "outputs": []
    },
    {
      "cell_type": "code",
      "execution_count": 19,
      "metadata": {
        "colab": {
          "base_uri": "https://localhost:8080/"
        },
        "id": "nQOnL-YqUly8",
        "outputId": "21e8b1f8-7b10-47f6-a810-c5cba2acdb93"
      },
      "outputs": [
        {
          "output_type": "stream",
          "name": "stdout",
          "text": [
            "Model: \"sequential\"\n",
            "_________________________________________________________________\n",
            " Layer (type)                Output Shape              Param #   \n",
            "=================================================================\n",
            " conv2d (Conv2D)             (None, 32, 32, 64)        1792      \n",
            "                                                                 \n",
            " conv2d_1 (Conv2D)           (None, 32, 32, 32)        18464     \n",
            "                                                                 \n",
            " conv2d_2 (Conv2D)           (None, 32, 32, 32)        9248      \n",
            "                                                                 \n",
            " conv2d_3 (Conv2D)           (None, 32, 32, 32)        9248      \n",
            "                                                                 \n",
            " conv2d_4 (Conv2D)           (None, 32, 32, 32)        9248      \n",
            "                                                                 \n",
            " conv2d_5 (Conv2D)           (None, 32, 32, 16)        4624      \n",
            "                                                                 \n",
            " conv2d_6 (Conv2D)           (None, 32, 32, 16)        2320      \n",
            "                                                                 \n",
            " conv2d_7 (Conv2D)           (None, 32, 32, 12)        1740      \n",
            "                                                                 \n",
            " max_pooling2d (MaxPooling2D  (None, 16, 16, 12)       0         \n",
            " )                                                               \n",
            "                                                                 \n",
            " flatten (Flatten)           (None, 3072)              0         \n",
            "                                                                 \n",
            " dense (Dense)               (None, 75)                230475    \n",
            "                                                                 \n",
            " dropout (Dropout)           (None, 75)                0         \n",
            "                                                                 \n",
            " dense_1 (Dense)             (None, 70)                5320      \n",
            "                                                                 \n",
            "=================================================================\n",
            "Total params: 292,479\n",
            "Trainable params: 292,479\n",
            "Non-trainable params: 0\n",
            "_________________________________________________________________\n"
          ]
        }
      ],
      "source": [
        "model.summary()"
      ]
    },
    {
      "cell_type": "code",
      "execution_count": 22,
      "metadata": {
        "id": "iq28o2xzUly9"
      },
      "outputs": [],
      "source": [
        "#  validation_steps: Only relevant if `validation_data` is provided and\n",
        "#                 is a `tf.data` dataset. Total number of steps (batches of\n",
        "#                 samples) to draw before stopping when performing validation\n",
        "#                 at the end of every epoch. If 'validation_steps' is None,\n",
        "#                 validation will run until the `validation_data` dataset is\n",
        "#                 exhausted. In the case of an infinitely repeated dataset, it\n",
        "#                 will run into an infinite loop. If 'validation_steps' is\n",
        "#                 specified and only part of the dataset will be consumed, the\n",
        "#                 evaluation will start from the beginning of the dataset at each\n",
        "#                 epoch. This ensures that the same validation samples are used\n",
        "#                 every time."
      ]
    },
    {
      "cell_type": "code",
      "execution_count": null,
      "metadata": {
        "colab": {
          "base_uri": "https://localhost:8080/"
        },
        "id": "jTXlLYa9Uly-",
        "outputId": "6faf7dbf-c9f2-400e-b4b6-19d1a4af9474"
      },
      "outputs": [
        {
          "output_type": "stream",
          "name": "stdout",
          "text": [
            "Epoch 1/15000\n",
            "20/20 [==============================] - ETA: 0s - loss: 4.2423 - accuracy: 0.0186  \n",
            "Epoch 1: saving model to /content/drive/MyDrive/Colab Notebooks/Dog Breed Classification/checkpoints/last_epoch.h5\n",
            "20/20 [==============================] - 2615s 130s/step - loss: 4.2423 - accuracy: 0.0186 - val_loss: 4.2134 - val_accuracy: 0.0357 - lr: 9.0484e-04\n",
            "Epoch 2/15000\n"
          ]
        }
      ],
      "source": [
        "steps_per_epoch = tf.math.ceil(num_train_examples/batch_size)\n",
        "validation_steps = tf.math.ceil(700/batch_size)\n",
        "\n",
        "history = model.fit(\n",
        "    train_data,epochs=15000,\n",
        "    validation_data=valid_data,\n",
        "    steps_per_epoch=steps_per_epoch,\n",
        "    validation_steps=validation_steps,\n",
        "    callbacks=[early_stop, lr_decay,save_last_epoch, SaveBestModel()]\n",
        ")"
      ]
    },
    {
      "cell_type": "code",
      "source": [
        "# #  Remove files from previous checkpoint\n",
        "# #  !!! Careful !!!\n",
        "# for file in os.listdir(save_path):\n",
        "#     os.remove(os.path.join(save_path,file))"
      ],
      "metadata": {
        "id": "Sm5LLiXdEnDr"
      },
      "execution_count": null,
      "outputs": []
    },
    {
      "cell_type": "code",
      "execution_count": null,
      "metadata": {
        "id": "LEdb6OYjUly-"
      },
      "outputs": [],
      "source": [
        "#  Save the final model\n",
        "model.save(save_path+\"final_model.h5\")"
      ]
    },
    {
      "cell_type": "code",
      "execution_count": null,
      "metadata": {
        "id": "Z7IRxuyxUly-"
      },
      "outputs": [],
      "source": [
        "batch= test_batch.next()\n",
        "batch = batch[:16]\n",
        "res = model.predict(batch[0])\n",
        "\n",
        "fig,axes = plt.subplots(2,8,figsize=(12,5))\n",
        "plt.rcParams.update({'font.size': 6})\n",
        "for i,ax in enumerate(axes.flatten()):\n",
        "    true_label = res[i].argmax()\n",
        "    predicted = batch[1][i]\n",
        "    ax.imshow(batch[0][i])\n",
        "    ax.set_title(f\"Breed: \\n{test_data_names[true_label]}\")\n",
        "    ax.set_xlabel(f\"Predicted:\\n{test_data_names[predicted]}\")\n",
        "\n",
        "fig.tight_layout(h_pad=2,w_pad=3)\n",
        "plt.show()"
      ]
    },
    {
      "cell_type": "code",
      "execution_count": null,
      "metadata": {
        "id": "LgU33xvVUly_"
      },
      "outputs": [],
      "source": [
        "model.evaluate(test_data)"
      ]
    }
  ],
  "metadata": {
    "accelerator": "GPU",
    "colab": {
      "provenance": [],
      "include_colab_link": true
    },
    "kernelspec": {
      "display_name": "Python 3",
      "name": "python3"
    },
    "language_info": {
      "codemirror_mode": {
        "name": "ipython",
        "version": 3
      },
      "file_extension": ".py",
      "mimetype": "text/x-python",
      "name": "python",
      "nbconvert_exporter": "python",
      "pygments_lexer": "ipython3",
      "version": "3.11.3"
    }
  },
  "nbformat": 4,
  "nbformat_minor": 0
}