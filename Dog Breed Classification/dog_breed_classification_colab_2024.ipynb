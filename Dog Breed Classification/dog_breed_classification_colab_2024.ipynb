{
  "cells": [
    {
      "cell_type": "markdown",
      "metadata": {
        "id": "view-in-github",
        "colab_type": "text"
      },
      "source": [
        "<a href=\"https://colab.research.google.com/github/Kallol7/tensorflowProjects/blob/main/Dog%20Breed%20Classification/dog_breed_classification_colab_2024.ipynb\" target=\"_parent\"><img src=\"https://colab.research.google.com/assets/colab-badge.svg\" alt=\"Open In Colab\"/></a>"
      ]
    },
    {
      "cell_type": "code",
      "execution_count": null,
      "metadata": {
        "id": "ggy0VnyTmb6U"
      },
      "outputs": [],
      "source": [
        "%%capture\n",
        "!pip install --upgrade tensorflow"
      ]
    },
    {
      "cell_type": "code",
      "execution_count": null,
      "metadata": {
        "id": "MLX-r9N0Uly4"
      },
      "outputs": [],
      "source": [
        "import os\n",
        "import numpy as np\n",
        "import pandas as pd\n",
        "import tensorflow as tf\n",
        "import matplotlib.pyplot as plt\n",
        "import seaborn as sns\n",
        "from imblearn.over_sampling import SMOTE\n",
        "from imblearn.under_sampling import RandomUnderSampler\n",
        "import json"
      ]
    },
    {
      "cell_type": "code",
      "execution_count": null,
      "metadata": {
        "id": "A7bSUWdbUly6"
      },
      "outputs": [],
      "source": [
        "data_folders =[\"test\",\"train\",\"valid\"]"
      ]
    },
    {
      "cell_type": "code",
      "execution_count": null,
      "metadata": {
        "id": "iyU1Q5tEU31Y"
      },
      "outputs": [],
      "source": [
        "# from google.colab import drive\n",
        "# drive.mount('/content/drive')"
      ]
    },
    {
      "cell_type": "code",
      "execution_count": null,
      "metadata": {
        "id": "qQoUSS3cVfWH"
      },
      "outputs": [],
      "source": [
        "# !unzip \"/content/drive/MyDrive/Colab Notebooks/Dog Breed Classification/dog_breed.zip\" -d \"/content\""
      ]
    },
    {
      "cell_type": "code",
      "execution_count": null,
      "metadata": {
        "id": "wL-gA3ceUly6"
      },
      "outputs": [],
      "source": [
        "test_data_names = os.listdir(\"test\")\n",
        "train_data_names = os.listdir(\"train\")\n",
        "valid_data_names= os.listdir(\"valid\")\n",
        "assert test_data_names == train_data_names\n",
        "\n",
        "# Look for class name mismatch\n",
        "for v_name in valid_data_names:\n",
        "    if v_name not in test_data_names:\n",
        "        print(f\"'{v_name}' need to be fixed\")"
      ]
    },
    {
      "cell_type": "code",
      "execution_count": null,
      "metadata": {
        "colab": {
          "base_uri": "https://localhost:8080/"
        },
        "id": "2eV8POsrUly6",
        "outputId": "f32de6ee-0927-4d20-8970-a55d1b69f63d"
      },
      "outputs": [
        {
          "output_type": "execute_result",
          "data": {
            "text/plain": [
              "{'Afghan': 0,\n",
              " 'African Wild Dog': 1,\n",
              " 'Airedale': 2,\n",
              " 'American Hairless': 3,\n",
              " 'American Spaniel': 4,\n",
              " 'Basenji': 5,\n",
              " 'Basset': 6,\n",
              " 'Beagle': 7,\n",
              " 'Bearded Collie': 8,\n",
              " 'Bermaise': 9,\n",
              " 'Bichon Frise': 10,\n",
              " 'Blenheim': 11,\n",
              " 'Bloodhound': 12,\n",
              " 'Bluetick': 13,\n",
              " 'Border Collie': 14,\n",
              " 'Borzoi': 15,\n",
              " 'Boston Terrier': 16,\n",
              " 'Boxer': 17,\n",
              " 'Bull Mastiff': 18,\n",
              " 'Bull Terrier': 19,\n",
              " 'Bulldog': 20,\n",
              " 'Cairn': 21,\n",
              " 'Chihuahua': 22,\n",
              " 'Chinese Crested': 23,\n",
              " 'Chow': 24,\n",
              " 'Clumber': 25,\n",
              " 'Cockapoo': 26,\n",
              " 'Cocker': 27,\n",
              " 'Collie': 28,\n",
              " 'Corgi': 29,\n",
              " 'Coyote': 30,\n",
              " 'Dalmation': 31,\n",
              " 'Dhole': 32,\n",
              " 'Dingo': 33,\n",
              " 'Doberman': 34,\n",
              " 'Elk Hound': 35,\n",
              " 'French Bulldog': 36,\n",
              " 'German Sheperd': 37,\n",
              " 'Golden Retriever': 38,\n",
              " 'Great Dane': 39,\n",
              " 'Great Perenees': 40,\n",
              " 'Greyhound': 41,\n",
              " 'Groenendael': 42,\n",
              " 'Irish Spaniel': 43,\n",
              " 'Irish Wolfhound': 44,\n",
              " 'Japanese Spaniel': 45,\n",
              " 'Komondor': 46,\n",
              " 'Labradoodle': 47,\n",
              " 'Labrador': 48,\n",
              " 'Lhasa': 49,\n",
              " 'Malinois': 50,\n",
              " 'Maltese': 51,\n",
              " 'Mex Hairless': 52,\n",
              " 'Newfoundland': 53,\n",
              " 'Pekinese': 54,\n",
              " 'Pit Bull': 55,\n",
              " 'Pomeranian': 56,\n",
              " 'Poodle': 57,\n",
              " 'Pug': 58,\n",
              " 'Rhodesian': 59,\n",
              " 'Rottweiler': 60,\n",
              " 'Saint Bernard': 61,\n",
              " 'Schnauzer': 62,\n",
              " 'Scotch Terrier': 63,\n",
              " 'Shar_Pei': 64,\n",
              " 'Shiba Inu': 65,\n",
              " 'Shih-Tzu': 66,\n",
              " 'Siberian Husky': 67,\n",
              " 'Vizsla': 68,\n",
              " 'Yorkie': 69}"
            ]
          },
          "metadata": {},
          "execution_count": 7
        }
      ],
      "source": [
        "class_map = {} # {class_name: index}\n",
        "for indx,name in enumerate(sorted(train_data_names)):\n",
        "    class_map[name] = indx\n",
        "class_map"
      ]
    },
    {
      "cell_type": "code",
      "execution_count": null,
      "metadata": {
        "colab": {
          "base_uri": "https://localhost:8080/"
        },
        "id": "eIrhSnQ4uhuT",
        "outputId": "8d9a152a-369b-4841-f92a-8d4c2e1a417a"
      },
      "outputs": [
        {
          "output_type": "stream",
          "name": "stdout",
          "text": [
            "Alredy renamed!\n"
          ]
        }
      ],
      "source": [
        "# to prevent class mismatch, only once\n",
        "try:\n",
        "  # current folder: \"content\"\n",
        "  os.rename(\"./valid/American  Spaniel\", \"./valid/American Spaniel\") # (source,destination)\n",
        "  print(\"'American  Spaniel' folder in validation renamed to 'American Spaniel'\")\n",
        "except:\n",
        "  print(\"Alredy renamed!\")"
      ]
    },
    {
      "cell_type": "code",
      "execution_count": null,
      "metadata": {
        "colab": {
          "base_uri": "https://localhost:8080/"
        },
        "id": "bJfko8l90LrE",
        "outputId": "e3c6c0ec-0e46-48f3-d8dc-9afa9aa635ab"
      },
      "outputs": [
        {
          "output_type": "stream",
          "name": "stdout",
          "text": [
            "No more fix needed\n"
          ]
        }
      ],
      "source": [
        "# Final check for class name mismatch\n",
        "valid_data_names= os.listdir(\"valid\")\n",
        "found = False\n",
        "for v_name in valid_data_names:\n",
        "    if v_name not in test_data_names:\n",
        "        print(f\"'{v_name}' need to be fixed\")\n",
        "        found = True\n",
        "if not found:\n",
        "    print(\"No more fix needed\")"
      ]
    },
    {
      "cell_type": "code",
      "execution_count": null,
      "metadata": {
        "id": "Zfu99tcKUly7"
      },
      "outputs": [],
      "source": [
        "def load_data(directory,class_names,batch_size,img_size):\n",
        "    # class_indx = [class_map[name] for name in class_names]\n",
        "    return tf.keras.preprocessing.image_dataset_from_directory(\n",
        "        directory,\n",
        "        labels=\"inferred\",\n",
        "        label_mode='int',\n",
        "        color_mode=\"rgb\",\n",
        "        batch_size=batch_size,\n",
        "        image_size=img_size,\n",
        "        shuffle=True,\n",
        "        seed=42,\n",
        "        pad_to_aspect_ratio=True\n",
        "    )\n",
        "\n",
        "def scale(x,y):\n",
        "    return (x*1./255,y)\n",
        "\n",
        "\n",
        "data_augmentation = tf.keras.Sequential([\n",
        "        tf.keras.layers.RandomFlip(\"horizontal_and_vertical\"),\n",
        "        tf.keras.layers.RandomRotation(0.3),\n",
        "])"
      ]
    },
    {
      "cell_type": "code",
      "execution_count": null,
      "metadata": {
        "colab": {
          "base_uri": "https://localhost:8080/"
        },
        "id": "Gq1k-f391ARb",
        "outputId": "56f7dbbc-06e6-4492-faf3-ca6110eff844"
      },
      "outputs": [
        {
          "output_type": "stream",
          "name": "stdout",
          "text": [
            "Found 7946 files belonging to 70 classes.\n"
          ]
        }
      ],
      "source": [
        "batch_size = 8 #10000\n",
        "img_size = (128,128)\n",
        "\n",
        "train_data = load_data('train',train_data_names,batch_size,img_size)"
      ]
    },
    {
      "cell_type": "code",
      "execution_count": null,
      "metadata": {
        "id": "g-FmThFHdQ8i"
      },
      "outputs": [],
      "source": [
        "def draw_countplot(train_iter):\n",
        "    all_y = []\n",
        "    while True:\n",
        "      batch = None\n",
        "      try:\n",
        "        batch = train_iter.next()\n",
        "      except:\n",
        "        break\n",
        "      all_y.extend(batch[1])\n",
        "\n",
        "    sns.set(style='whitegrid',rc={\"figure.figsize\": (20, 6)},font_scale=1)\n",
        "    sns.countplot(x=all_y,dodge=True,width=.8,edgecolor=\"none\",order=pd.value_counts(all_y).index)\n",
        "    plt.xlabel(\"Class\")\n",
        "    plt.show()"
      ]
    },
    {
      "cell_type": "code",
      "execution_count": null,
      "metadata": {
        "colab": {
          "base_uri": "https://localhost:8080/",
          "height": 422
        },
        "id": "UTniV3WuKhs7",
        "outputId": "0eba388b-ad8b-420b-be5d-3d869cab404b"
      },
      "outputs": [
        {
          "output_type": "display_data",
          "data": {
            "text/plain": [
              "<Figure size 2000x600 with 1 Axes>"
            ],
            "image/png": "[encoded data removed]"
          },
          "metadata": {}
        }
      ],
      "source": [
        "# Visualize Class Imbalance\n",
        "train_iter= train_data.as_numpy_iterator()\n",
        "draw_countplot(train_iter)\n",
        "del train_iter"
      ]
    },
    {
      "cell_type": "code",
      "execution_count": null,
      "metadata": {
        "id": "KoYKTjjQI0w0"
      },
      "outputs": [],
      "source": [
        "def apply_resampling(train_data):\n",
        "    under = RandomUnderSampler(sampling_strategy=\"not minority\")\n",
        "    over = SMOTE(sampling_strategy=\"not majority\")\n",
        "\n",
        "    # Separate features and labels\n",
        "    train_features = []\n",
        "    train_labels = []\n",
        "    for batch in train_data:\n",
        "        train_features.append(batch[0])\n",
        "        train_labels.append(batch[1])\n",
        "    train_features = np.concatenate(train_features)\n",
        "    train_labels = np.concatenate(train_labels)\n",
        "\n",
        "    # Reshape the features for resampling\n",
        "    train_features = np.reshape(train_features, (train_features.shape[0], -1))\n",
        "\n",
        "    # Apply oversampling first\n",
        "    train_features, train_labels = over.fit_resample(train_features, train_labels)\n",
        "\n",
        "    # Apply undersampling\n",
        "    train_features, train_labels = under.fit_resample(train_features, train_labels)\n",
        "\n",
        "    # Reshape the features back to the original shape\n",
        "    train_features = np.reshape(train_features, (train_features.shape[0], *img_size, 3))\n",
        "\n",
        "    # Create a TensorFlow dataset from the resampled data\n",
        "    final_dataset = tf.data.Dataset.from_tensor_slices((train_features, train_labels))\n",
        "    final_dataset = final_dataset.shuffle(train_features.shape[0]).batch(batch_size)\n",
        "\n",
        "    num_train_examples = train_features.shape[0]\n",
        "    return final_dataset, num_train_examples\n",
        "\n",
        "def smote_and_undersample(train_data):\n",
        "    final_dataset, num_train_examples = apply_resampling(train_data) # gpu not utilized\n",
        "\n",
        "    assert isinstance(final_dataset, tf.data.Dataset)  # Ensure final_dataset is of type tf.data.Dataset\n",
        "    return final_dataset, num_train_examples"
      ]
    },
    {
      "cell_type": "code",
      "execution_count": null,
      "metadata": {
        "id": "LIFlkKonBlZT"
      },
      "outputs": [],
      "source": [
        "# train_data,num_train_examples = smote_and_undersample(train_data)\n",
        "# print(\"After resampling \", num_train_examples, \"total images\")"
      ]
    },
    {
      "cell_type": "code",
      "execution_count": null,
      "metadata": {
        "colab": {
          "base_uri": "https://localhost:8080/",
          "height": 422
        },
        "id": "UtPQiL3x2voX",
        "outputId": "478583fe-8fbe-4053-8995-0515d810d1e3"
      },
      "outputs": [
        {
          "output_type": "display_data",
          "data": {
            "text/plain": [
              "<Figure size 2000x600 with 1 Axes>"
            ],
            "image/png": "[encoded data removed]"
          },
          "metadata": {}
        }
      ],
      "source": [
        "# Class distribution after balancing\n",
        "train_iter= train_data.as_numpy_iterator()\n",
        "draw_countplot(train_iter)\n",
        "del train_iter"
      ]
    },
    {
      "cell_type": "code",
      "execution_count": null,
      "metadata": {
        "colab": {
          "base_uri": "https://localhost:8080/"
        },
        "id": "FWtXhtuH1Lgr",
        "outputId": "893b2f25-5d3a-4e09-bee2-09e3ee411a89"
      },
      "outputs": [
        {
          "output_type": "stream",
          "name": "stdout",
          "text": [
            "Found 700 files belonging to 70 classes.\n",
            "Found 700 files belonging to 70 classes.\n"
          ]
        }
      ],
      "source": [
        "test_data = load_data('test', test_data_names,batch_size,img_size)\n",
        "test_data = test_data.map(scale)\n",
        "\n",
        "valid_data = load_data('valid', valid_data_names,batch_size,img_size)\n",
        "valid_data = valid_data.map(scale)"
      ]
    },
    {
      "cell_type": "code",
      "execution_count": null,
      "metadata": {
        "id": "AOzA80CrUly7"
      },
      "outputs": [],
      "source": [
        "train_data = train_data.map(scale).shuffle(3).cache()\n",
        "train_data = train_data.map(lambda x,y: (data_augmentation(x, training= True), y), num_parallel_calls=tf.data.AUTOTUNE)\n",
        "\n",
        "valid_data = valid_data.cache() # .batch(batch_size) already applied\n",
        "test_batch = test_data.repeat().as_numpy_iterator()"
      ]
    },
    {
      "cell_type": "code",
      "execution_count": null,
      "metadata": {
        "id": "6zPL2X15ekWp"
      },
      "outputs": [],
      "source": [
        "# Early stopping\n",
        "early_stop = tf.keras.callbacks.EarlyStopping(\n",
        "    monitor=\"val_accuracy\",\n",
        "    min_delta=0.001,\n",
        "    patience=300,\n",
        "    mode=\"max\",\n",
        "    restore_best_weights=True\n",
        ")\n",
        "\n",
        "# # For learning rate decay\n",
        "# def lr_scheduler(epoch, lr):\n",
        "#     if epoch%80==0:\n",
        "#       return lr * tf.math.exp(-0.1)\n",
        "#     else:\n",
        "#       return float(lr)\n",
        "# lr_decay = tf.keras.callbacks.LearningRateScheduler(lr_scheduler)"
      ]
    },
    {
      "cell_type": "code",
      "execution_count": null,
      "metadata": {
        "id": "S11hI6gJUly8"
      },
      "outputs": [],
      "source": [
        "# checkpoint path\n",
        "save_path = \"/content/drive/MyDrive/Colab Notebooks/Dog Breed Classification/checkpoints/\"\n",
        "\n",
        "# callback to save each epoch\n",
        "save_last_epoch = tf.keras.callbacks.ModelCheckpoint(\n",
        "    filepath=save_path+\"last_epoch.keras\",\n",
        "    save_weights_only=False,\n",
        "    save_freq='epoch',\n",
        "    verbose=1\n",
        ")\n",
        "\n",
        "# get the best validation accuracy from previous model fit\n",
        "best_val_accuracy = float('-inf')\n",
        "with open(save_path+\"best_val_accuracy.json\",\"r\") as f:\n",
        "    best_val_accuracy = max(best_val_accuracy,json.load(f))\n",
        "\n",
        "# callback to save best model\n",
        "class SaveBestModel(tf.keras.callbacks.Callback):\n",
        "    def on_epoch_end(self, epoch, logs):\n",
        "        current_val_accuracy = logs.get('val_accuracy')\n",
        "        global best_val_accuracy\n",
        "        if current_val_accuracy > best_val_accuracy:\n",
        "            best_val_accuracy = current_val_accuracy  # update\n",
        "            self.model.save(save_path+\"best_model.keras\")  # update by overwriting\n",
        "            with open(save_path+\"best_val_accuracy.json\",\"w\") as f:\n",
        "                json.dump(best_val_accuracy,f)  # update by overwriting"
      ]
    },
    {
      "cell_type": "code",
      "execution_count": null,
      "metadata": {
        "id": "w4e0V2Gv8Zb0"
      },
      "outputs": [],
      "source": [
        "# # When using a new model, run this.\n",
        "# with open(save_path+\"best_val_accuracy.json\",\"w\") as f:\n",
        "#     json.dump(float(\"-inf\"),f)"
      ]
    },
    {
      "cell_type": "code",
      "execution_count": null,
      "metadata": {
        "id": "u53HskpnUly7"
      },
      "outputs": [],
      "source": [
        "def create_model(learning_rate=1e-3):\n",
        "    # Use dropout on hidden layers when there are\n",
        "    # lots of parameters and has a chance of overfitting.\n",
        "    # Good droupout range 0.5 to 0.8\n",
        "    model = tf.keras.models.Sequential([\n",
        "        tf.keras.layers.Conv2D(64,kernel_size=(5,5),padding=\"same\",activation=tf.nn.relu,input_shape=(*img_size,3)),\n",
        "        tf.keras.layers.Conv2D(64,kernel_size=(5,5),padding=\"same\",activation=tf.nn.relu),\n",
        "        tf.keras.layers.Conv2D(64,kernel_size=(5,5),padding=\"same\",activation=tf.nn.relu),\n",
        "        tf.keras.layers.Conv2D(64,kernel_size=(5,5),padding=\"same\",activation=tf.nn.relu),\n",
        "        tf.keras.layers.Conv2D(64,kernel_size=(5,5),padding=\"same\",activation=tf.nn.relu),\n",
        "        tf.keras.layers.MaxPooling2D(pool_size=(2,2),strides=(2,2)),\n",
        "        tf.keras.layers.Dropout(0.10),\n",
        "\n",
        "        tf.keras.layers.Conv2D(128,kernel_size=(3,3),padding=\"same\",activation=tf.nn.relu),\n",
        "        tf.keras.layers.Conv2D(128,kernel_size=(3,3),padding=\"same\",activation=tf.nn.relu),\n",
        "        tf.keras.layers.Conv2D(128,kernel_size=(3,3),padding=\"same\",activation=tf.nn.relu),\n",
        "        tf.keras.layers.Conv2D(128,kernel_size=(3,3),padding=\"same\",activation=tf.nn.relu),\n",
        "        tf.keras.layers.MaxPooling2D(pool_size=(2,2),strides=(2,2)),\n",
        "        tf.keras.layers.Dropout(0.15),\n",
        "\n",
        "        tf.keras.layers.Conv2D(256,kernel_size=(3,3),padding=\"same\",activation=tf.nn.relu),\n",
        "        tf.keras.layers.Conv2D(256,kernel_size=(3,3),padding=\"same\",activation=tf.nn.relu),\n",
        "        tf.keras.layers.Conv2D(256,kernel_size=(3,3),padding=\"same\",activation=tf.nn.relu),\n",
        "        tf.keras.layers.MaxPooling2D(pool_size=(2,2),strides=(2,2)),\n",
        "        tf.keras.layers.Dropout(0.25),\n",
        "\n",
        "        tf.keras.layers.Flatten(),\n",
        "        tf.keras.layers.Dense(units=512,activation=tf.nn.relu),\n",
        "        tf.keras.layers.Dense(units=1024,activation=tf.nn.relu),\n",
        "        tf.keras.layers.Dropout(0.50),\n",
        "        tf.keras.layers.Dense(units=70)\n",
        "    ])\n",
        "\n",
        "    # Using softmax and SparseCategoricalCrossentropy can have issues.\n",
        "    # Safter approach, use linear output(no activation on output layer) and\n",
        "    # use SparseCategoricalCrossentropy(from_logits=True)\n",
        "    model.compile(\n",
        "        optimizer= tf.optimizers.Adam(learning_rate),\n",
        "        loss= tf.losses.SparseCategoricalCrossentropy(from_logits=True),\n",
        "        metrics=[\"accuracy\"]\n",
        "    )\n",
        "    return model"
      ]
    },
    {
      "cell_type": "code",
      "execution_count": null,
      "metadata": {
        "colab": {
          "base_uri": "https://localhost:8080/"
        },
        "id": "sJcsHvn3CQ20",
        "outputId": "d9fda4b5-f99e-4f44-b274-d6849bf3c299"
      },
      "outputs": [
        {
          "output_type": "stream",
          "name": "stderr",
          "text": [
            "/usr/local/lib/python3.10/dist-packages/keras/src/layers/convolutional/base_conv.py:107: UserWarning: Do not pass an `input_shape`/`input_dim` argument to a layer. When using Sequential models, prefer using an `Input(shape)` object as the first layer in the model instead.\n",
            "  super().__init__(activity_regularizer=activity_regularizer, **kwargs)\n"
          ]
        },
        {
          "output_type": "stream",
          "name": "stdout",
          "text": [
            "New model created\n"
          ]
        }
      ],
      "source": [
        "# Load the last saved model from checkpoint or use the new model\n",
        "model = None\n",
        "if best_val_accuracy > float('-inf'):\n",
        "    model = tf.keras.models.load_model(save_path+\"last_epoch.keras\")\n",
        "    print(\"Loaded model from the previous run\")\n",
        "    print(\"Best validation accuracy from last run:\",best_val_accuracy)\n",
        "else:\n",
        "    model = create_model(1e-7)\n",
        "    print(\"New model created\")"
      ]
    },
    {
      "cell_type": "code",
      "execution_count": null,
      "metadata": {
        "colab": {
          "base_uri": "https://localhost:8080/",
          "height": 918
        },
        "id": "nQOnL-YqUly8",
        "outputId": "19331f16-2cc8-4ade-b2e3-5eedf7df2160"
      },
      "outputs": [
        {
          "output_type": "display_data",
          "data": {
            "text/plain": [
              "\u001b[1mModel: \"sequential_1\"\u001b[0m\n"
            ],
            "text/html": [
              "<pre style=\"white-space:pre;overflow-x:auto;line-height:normal;font-family:Menlo,'DejaVu Sans Mono',consolas,'Courier New',monospace\"><span style=\"font-weight: bold\">Model: \"sequential_1\"</span>\n",
              "</pre>\n"
            ]
          },
          "metadata": {}
        },
        {
          "output_type": "display_data",
          "data": {
            "text/plain": [
              "┏━━━━━━━━━━━━━━━━━━━━━━━━━━━━━━━━━━━━━━┳━━━━━━━━━━━━━━━━━━━━━━━━━━━━━┳━━━━━━━━━━━━━━━━━┓\n",
              "┃\u001b[1m \u001b[0m\u001b[1mLayer (type)                        \u001b[0m\u001b[1m \u001b[0m┃\u001b[1m \u001b[0m\u001b[1mOutput Shape               \u001b[0m\u001b[1m \u001b[0m┃\u001b[1m \u001b[0m\u001b[1m        Param #\u001b[0m\u001b[1m \u001b[0m┃\n",
              "┡━━━━━━━━━━━━━━━━━━━━━━━━━━━━━━━━━━━━━━╇━━━━━━━━━━━━━━━━━━━━━━━━━━━━━╇━━━━━━━━━━━━━━━━━┩\n",
              "│ conv2d (\u001b[38;5;33mConv2D\u001b[0m)                      │ (\u001b[38;5;45mNone\u001b[0m, \u001b[38;5;34m128\u001b[0m, \u001b[38;5;34m128\u001b[0m, \u001b[38;5;34m64\u001b[0m)        │           \u001b[38;5;34m4,864\u001b[0m │\n",
              "├──────────────────────────────────────┼─────────────────────────────┼─────────────────┤\n",
              "│ conv2d_1 (\u001b[38;5;33mConv2D\u001b[0m)                    │ (\u001b[38;5;45mNone\u001b[0m, \u001b[38;5;34m128\u001b[0m, \u001b[38;5;34m128\u001b[0m, \u001b[38;5;34m64\u001b[0m)        │         \u001b[38;5;34m102,464\u001b[0m │\n",
              "├──────────────────────────────────────┼─────────────────────────────┼─────────────────┤\n",
              "│ conv2d_2 (\u001b[38;5;33mConv2D\u001b[0m)                    │ (\u001b[38;5;45mNone\u001b[0m, \u001b[38;5;34m128\u001b[0m, \u001b[38;5;34m128\u001b[0m, \u001b[38;5;34m64\u001b[0m)        │         \u001b[38;5;34m102,464\u001b[0m │\n",
              "├──────────────────────────────────────┼─────────────────────────────┼─────────────────┤\n",
              "│ conv2d_3 (\u001b[38;5;33mConv2D\u001b[0m)                    │ (\u001b[38;5;45mNone\u001b[0m, \u001b[38;5;34m128\u001b[0m, \u001b[38;5;34m128\u001b[0m, \u001b[38;5;34m64\u001b[0m)        │         \u001b[38;5;34m102,464\u001b[0m │\n",
              "├──────────────────────────────────────┼─────────────────────────────┼─────────────────┤\n",
              "│ conv2d_4 (\u001b[38;5;33mConv2D\u001b[0m)                    │ (\u001b[38;5;45mNone\u001b[0m, \u001b[38;5;34m128\u001b[0m, \u001b[38;5;34m128\u001b[0m, \u001b[38;5;34m64\u001b[0m)        │         \u001b[38;5;34m102,464\u001b[0m │\n",
              "├──────────────────────────────────────┼─────────────────────────────┼─────────────────┤\n",
              "│ max_pooling2d (\u001b[38;5;33mMaxPooling2D\u001b[0m)         │ (\u001b[38;5;45mNone\u001b[0m, \u001b[38;5;34m64\u001b[0m, \u001b[38;5;34m64\u001b[0m, \u001b[38;5;34m64\u001b[0m)          │               \u001b[38;5;34m0\u001b[0m │\n",
              "├──────────────────────────────────────┼─────────────────────────────┼─────────────────┤\n",
              "│ dropout (\u001b[38;5;33mDropout\u001b[0m)                    │ (\u001b[38;5;45mNone\u001b[0m, \u001b[38;5;34m64\u001b[0m, \u001b[38;5;34m64\u001b[0m, \u001b[38;5;34m64\u001b[0m)          │               \u001b[38;5;34m0\u001b[0m │\n",
              "├──────────────────────────────────────┼─────────────────────────────┼─────────────────┤\n",
              "│ conv2d_5 (\u001b[38;5;33mConv2D\u001b[0m)                    │ (\u001b[38;5;45mNone\u001b[0m, \u001b[38;5;34m64\u001b[0m, \u001b[38;5;34m64\u001b[0m, \u001b[38;5;34m128\u001b[0m)         │          \u001b[38;5;34m73,856\u001b[0m │\n",
              "├──────────────────────────────────────┼─────────────────────────────┼─────────────────┤\n",
              "│ conv2d_6 (\u001b[38;5;33mConv2D\u001b[0m)                    │ (\u001b[38;5;45mNone\u001b[0m, \u001b[38;5;34m64\u001b[0m, \u001b[38;5;34m64\u001b[0m, \u001b[38;5;34m128\u001b[0m)         │         \u001b[38;5;34m147,584\u001b[0m │\n",
              "├──────────────────────────────────────┼─────────────────────────────┼─────────────────┤\n",
              "│ conv2d_7 (\u001b[38;5;33mConv2D\u001b[0m)                    │ (\u001b[38;5;45mNone\u001b[0m, \u001b[38;5;34m64\u001b[0m, \u001b[38;5;34m64\u001b[0m, \u001b[38;5;34m128\u001b[0m)         │         \u001b[38;5;34m147,584\u001b[0m │\n",
              "├──────────────────────────────────────┼─────────────────────────────┼─────────────────┤\n",
              "│ conv2d_8 (\u001b[38;5;33mConv2D\u001b[0m)                    │ (\u001b[38;5;45mNone\u001b[0m, \u001b[38;5;34m64\u001b[0m, \u001b[38;5;34m64\u001b[0m, \u001b[38;5;34m128\u001b[0m)         │         \u001b[38;5;34m147,584\u001b[0m │\n",
              "├──────────────────────────────────────┼─────────────────────────────┼─────────────────┤\n",
              "│ max_pooling2d_1 (\u001b[38;5;33mMaxPooling2D\u001b[0m)       │ (\u001b[38;5;45mNone\u001b[0m, \u001b[38;5;34m32\u001b[0m, \u001b[38;5;34m32\u001b[0m, \u001b[38;5;34m128\u001b[0m)         │               \u001b[38;5;34m0\u001b[0m │\n",
              "├──────────────────────────────────────┼─────────────────────────────┼─────────────────┤\n",
              "│ dropout_1 (\u001b[38;5;33mDropout\u001b[0m)                  │ (\u001b[38;5;45mNone\u001b[0m, \u001b[38;5;34m32\u001b[0m, \u001b[38;5;34m32\u001b[0m, \u001b[38;5;34m128\u001b[0m)         │               \u001b[38;5;34m0\u001b[0m │\n",
              "├──────────────────────────────────────┼─────────────────────────────┼─────────────────┤\n",
              "│ conv2d_9 (\u001b[38;5;33mConv2D\u001b[0m)                    │ (\u001b[38;5;45mNone\u001b[0m, \u001b[38;5;34m32\u001b[0m, \u001b[38;5;34m32\u001b[0m, \u001b[38;5;34m256\u001b[0m)         │         \u001b[38;5;34m295,168\u001b[0m │\n",
              "├──────────────────────────────────────┼─────────────────────────────┼─────────────────┤\n",
              "│ conv2d_10 (\u001b[38;5;33mConv2D\u001b[0m)                   │ (\u001b[38;5;45mNone\u001b[0m, \u001b[38;5;34m32\u001b[0m, \u001b[38;5;34m32\u001b[0m, \u001b[38;5;34m256\u001b[0m)         │         \u001b[38;5;34m590,080\u001b[0m │\n",
              "├──────────────────────────────────────┼─────────────────────────────┼─────────────────┤\n",
              "│ conv2d_11 (\u001b[38;5;33mConv2D\u001b[0m)                   │ (\u001b[38;5;45mNone\u001b[0m, \u001b[38;5;34m32\u001b[0m, \u001b[38;5;34m32\u001b[0m, \u001b[38;5;34m256\u001b[0m)         │         \u001b[38;5;34m590,080\u001b[0m │\n",
              "├──────────────────────────────────────┼─────────────────────────────┼─────────────────┤\n",
              "│ max_pooling2d_2 (\u001b[38;5;33mMaxPooling2D\u001b[0m)       │ (\u001b[38;5;45mNone\u001b[0m, \u001b[38;5;34m16\u001b[0m, \u001b[38;5;34m16\u001b[0m, \u001b[38;5;34m256\u001b[0m)         │               \u001b[38;5;34m0\u001b[0m │\n",
              "├──────────────────────────────────────┼─────────────────────────────┼─────────────────┤\n",
              "│ dropout_2 (\u001b[38;5;33mDropout\u001b[0m)                  │ (\u001b[38;5;45mNone\u001b[0m, \u001b[38;5;34m16\u001b[0m, \u001b[38;5;34m16\u001b[0m, \u001b[38;5;34m256\u001b[0m)         │               \u001b[38;5;34m0\u001b[0m │\n",
              "├──────────────────────────────────────┼─────────────────────────────┼─────────────────┤\n",
              "│ flatten (\u001b[38;5;33mFlatten\u001b[0m)                    │ (\u001b[38;5;45mNone\u001b[0m, \u001b[38;5;34m65536\u001b[0m)               │               \u001b[38;5;34m0\u001b[0m │\n",
              "├──────────────────────────────────────┼─────────────────────────────┼─────────────────┤\n",
              "│ dense (\u001b[38;5;33mDense\u001b[0m)                        │ (\u001b[38;5;45mNone\u001b[0m, \u001b[38;5;34m512\u001b[0m)                 │      \u001b[38;5;34m33,554,944\u001b[0m │\n",
              "├──────────────────────────────────────┼─────────────────────────────┼─────────────────┤\n",
              "│ dense_1 (\u001b[38;5;33mDense\u001b[0m)                      │ (\u001b[38;5;45mNone\u001b[0m, \u001b[38;5;34m1024\u001b[0m)                │         \u001b[38;5;34m525,312\u001b[0m │\n",
              "├──────────────────────────────────────┼─────────────────────────────┼─────────────────┤\n",
              "│ dropout_3 (\u001b[38;5;33mDropout\u001b[0m)                  │ (\u001b[38;5;45mNone\u001b[0m, \u001b[38;5;34m1024\u001b[0m)                │               \u001b[38;5;34m0\u001b[0m │\n",
              "├──────────────────────────────────────┼─────────────────────────────┼─────────────────┤\n",
              "│ dense_2 (\u001b[38;5;33mDense\u001b[0m)                      │ (\u001b[38;5;45mNone\u001b[0m, \u001b[38;5;34m70\u001b[0m)                  │          \u001b[38;5;34m71,750\u001b[0m │\n",
              "└──────────────────────────────────────┴─────────────────────────────┴─────────────────┘\n"
            ],
            "text/html": [
              "<pre style=\"white-space:pre;overflow-x:auto;line-height:normal;font-family:Menlo,'DejaVu Sans Mono',consolas,'Courier New',monospace\">┏━━━━━━━━━━━━━━━━━━━━━━━━━━━━━━━━━━━━━━┳━━━━━━━━━━━━━━━━━━━━━━━━━━━━━┳━━━━━━━━━━━━━━━━━┓\n",
              "┃<span style=\"font-weight: bold\"> Layer (type)                         </span>┃<span style=\"font-weight: bold\"> Output Shape                </span>┃<span style=\"font-weight: bold\">         Param # </span>┃\n",
              "┡━━━━━━━━━━━━━━━━━━━━━━━━━━━━━━━━━━━━━━╇━━━━━━━━━━━━━━━━━━━━━━━━━━━━━╇━━━━━━━━━━━━━━━━━┩\n",
              "│ conv2d (<span style=\"color: #0087ff; text-decoration-color: #0087ff\">Conv2D</span>)                      │ (<span style=\"color: #00d7ff; text-decoration-color: #00d7ff\">None</span>, <span style=\"color: #00af00; text-decoration-color: #00af00\">128</span>, <span style=\"color: #00af00; text-decoration-color: #00af00\">128</span>, <span style=\"color: #00af00; text-decoration-color: #00af00\">64</span>)        │           <span style=\"color: #00af00; text-decoration-color: #00af00\">4,864</span> │\n",
              "├──────────────────────────────────────┼─────────────────────────────┼─────────────────┤\n",
              "│ conv2d_1 (<span style=\"color: #0087ff; text-decoration-color: #0087ff\">Conv2D</span>)                    │ (<span style=\"color: #00d7ff; text-decoration-color: #00d7ff\">None</span>, <span style=\"color: #00af00; text-decoration-color: #00af00\">128</span>, <span style=\"color: #00af00; text-decoration-color: #00af00\">128</span>, <span style=\"color: #00af00; text-decoration-color: #00af00\">64</span>)        │         <span style=\"color: #00af00; text-decoration-color: #00af00\">102,464</span> │\n",
              "├──────────────────────────────────────┼─────────────────────────────┼─────────────────┤\n",
              "│ conv2d_2 (<span style=\"color: #0087ff; text-decoration-color: #0087ff\">Conv2D</span>)                    │ (<span style=\"color: #00d7ff; text-decoration-color: #00d7ff\">None</span>, <span style=\"color: #00af00; text-decoration-color: #00af00\">128</span>, <span style=\"color: #00af00; text-decoration-color: #00af00\">128</span>, <span style=\"color: #00af00; text-decoration-color: #00af00\">64</span>)        │         <span style=\"color: #00af00; text-decoration-color: #00af00\">102,464</span> │\n",
              "├──────────────────────────────────────┼─────────────────────────────┼─────────────────┤\n",
              "│ conv2d_3 (<span style=\"color: #0087ff; text-decoration-color: #0087ff\">Conv2D</span>)                    │ (<span style=\"color: #00d7ff; text-decoration-color: #00d7ff\">None</span>, <span style=\"color: #00af00; text-decoration-color: #00af00\">128</span>, <span style=\"color: #00af00; text-decoration-color: #00af00\">128</span>, <span style=\"color: #00af00; text-decoration-color: #00af00\">64</span>)        │         <span style=\"color: #00af00; text-decoration-color: #00af00\">102,464</span> │\n",
              "├──────────────────────────────────────┼─────────────────────────────┼─────────────────┤\n",
              "│ conv2d_4 (<span style=\"color: #0087ff; text-decoration-color: #0087ff\">Conv2D</span>)                    │ (<span style=\"color: #00d7ff; text-decoration-color: #00d7ff\">None</span>, <span style=\"color: #00af00; text-decoration-color: #00af00\">128</span>, <span style=\"color: #00af00; text-decoration-color: #00af00\">128</span>, <span style=\"color: #00af00; text-decoration-color: #00af00\">64</span>)        │         <span style=\"color: #00af00; text-decoration-color: #00af00\">102,464</span> │\n",
              "├──────────────────────────────────────┼─────────────────────────────┼─────────────────┤\n",
              "│ max_pooling2d (<span style=\"color: #0087ff; text-decoration-color: #0087ff\">MaxPooling2D</span>)         │ (<span style=\"color: #00d7ff; text-decoration-color: #00d7ff\">None</span>, <span style=\"color: #00af00; text-decoration-color: #00af00\">64</span>, <span style=\"color: #00af00; text-decoration-color: #00af00\">64</span>, <span style=\"color: #00af00; text-decoration-color: #00af00\">64</span>)          │               <span style=\"color: #00af00; text-decoration-color: #00af00\">0</span> │\n",
              "├──────────────────────────────────────┼─────────────────────────────┼─────────────────┤\n",
              "│ dropout (<span style=\"color: #0087ff; text-decoration-color: #0087ff\">Dropout</span>)                    │ (<span style=\"color: #00d7ff; text-decoration-color: #00d7ff\">None</span>, <span style=\"color: #00af00; text-decoration-color: #00af00\">64</span>, <span style=\"color: #00af00; text-decoration-color: #00af00\">64</span>, <span style=\"color: #00af00; text-decoration-color: #00af00\">64</span>)          │               <span style=\"color: #00af00; text-decoration-color: #00af00\">0</span> │\n",
              "├──────────────────────────────────────┼─────────────────────────────┼─────────────────┤\n",
              "│ conv2d_5 (<span style=\"color: #0087ff; text-decoration-color: #0087ff\">Conv2D</span>)                    │ (<span style=\"color: #00d7ff; text-decoration-color: #00d7ff\">None</span>, <span style=\"color: #00af00; text-decoration-color: #00af00\">64</span>, <span style=\"color: #00af00; text-decoration-color: #00af00\">64</span>, <span style=\"color: #00af00; text-decoration-color: #00af00\">128</span>)         │          <span style=\"color: #00af00; text-decoration-color: #00af00\">73,856</span> │\n",
              "├──────────────────────────────────────┼─────────────────────────────┼─────────────────┤\n",
              "│ conv2d_6 (<span style=\"color: #0087ff; text-decoration-color: #0087ff\">Conv2D</span>)                    │ (<span style=\"color: #00d7ff; text-decoration-color: #00d7ff\">None</span>, <span style=\"color: #00af00; text-decoration-color: #00af00\">64</span>, <span style=\"color: #00af00; text-decoration-color: #00af00\">64</span>, <span style=\"color: #00af00; text-decoration-color: #00af00\">128</span>)         │         <span style=\"color: #00af00; text-decoration-color: #00af00\">147,584</span> │\n",
              "├──────────────────────────────────────┼─────────────────────────────┼─────────────────┤\n",
              "│ conv2d_7 (<span style=\"color: #0087ff; text-decoration-color: #0087ff\">Conv2D</span>)                    │ (<span style=\"color: #00d7ff; text-decoration-color: #00d7ff\">None</span>, <span style=\"color: #00af00; text-decoration-color: #00af00\">64</span>, <span style=\"color: #00af00; text-decoration-color: #00af00\">64</span>, <span style=\"color: #00af00; text-decoration-color: #00af00\">128</span>)         │         <span style=\"color: #00af00; text-decoration-color: #00af00\">147,584</span> │\n",
              "├──────────────────────────────────────┼─────────────────────────────┼─────────────────┤\n",
              "│ conv2d_8 (<span style=\"color: #0087ff; text-decoration-color: #0087ff\">Conv2D</span>)                    │ (<span style=\"color: #00d7ff; text-decoration-color: #00d7ff\">None</span>, <span style=\"color: #00af00; text-decoration-color: #00af00\">64</span>, <span style=\"color: #00af00; text-decoration-color: #00af00\">64</span>, <span style=\"color: #00af00; text-decoration-color: #00af00\">128</span>)         │         <span style=\"color: #00af00; text-decoration-color: #00af00\">147,584</span> │\n",
              "├──────────────────────────────────────┼─────────────────────────────┼─────────────────┤\n",
              "│ max_pooling2d_1 (<span style=\"color: #0087ff; text-decoration-color: #0087ff\">MaxPooling2D</span>)       │ (<span style=\"color: #00d7ff; text-decoration-color: #00d7ff\">None</span>, <span style=\"color: #00af00; text-decoration-color: #00af00\">32</span>, <span style=\"color: #00af00; text-decoration-color: #00af00\">32</span>, <span style=\"color: #00af00; text-decoration-color: #00af00\">128</span>)         │               <span style=\"color: #00af00; text-decoration-color: #00af00\">0</span> │\n",
              "├──────────────────────────────────────┼─────────────────────────────┼─────────────────┤\n",
              "│ dropout_1 (<span style=\"color: #0087ff; text-decoration-color: #0087ff\">Dropout</span>)                  │ (<span style=\"color: #00d7ff; text-decoration-color: #00d7ff\">None</span>, <span style=\"color: #00af00; text-decoration-color: #00af00\">32</span>, <span style=\"color: #00af00; text-decoration-color: #00af00\">32</span>, <span style=\"color: #00af00; text-decoration-color: #00af00\">128</span>)         │               <span style=\"color: #00af00; text-decoration-color: #00af00\">0</span> │\n",
              "├──────────────────────────────────────┼─────────────────────────────┼─────────────────┤\n",
              "│ conv2d_9 (<span style=\"color: #0087ff; text-decoration-color: #0087ff\">Conv2D</span>)                    │ (<span style=\"color: #00d7ff; text-decoration-color: #00d7ff\">None</span>, <span style=\"color: #00af00; text-decoration-color: #00af00\">32</span>, <span style=\"color: #00af00; text-decoration-color: #00af00\">32</span>, <span style=\"color: #00af00; text-decoration-color: #00af00\">256</span>)         │         <span style=\"color: #00af00; text-decoration-color: #00af00\">295,168</span> │\n",
              "├──────────────────────────────────────┼─────────────────────────────┼─────────────────┤\n",
              "│ conv2d_10 (<span style=\"color: #0087ff; text-decoration-color: #0087ff\">Conv2D</span>)                   │ (<span style=\"color: #00d7ff; text-decoration-color: #00d7ff\">None</span>, <span style=\"color: #00af00; text-decoration-color: #00af00\">32</span>, <span style=\"color: #00af00; text-decoration-color: #00af00\">32</span>, <span style=\"color: #00af00; text-decoration-color: #00af00\">256</span>)         │         <span style=\"color: #00af00; text-decoration-color: #00af00\">590,080</span> │\n",
              "├──────────────────────────────────────┼─────────────────────────────┼─────────────────┤\n",
              "│ conv2d_11 (<span style=\"color: #0087ff; text-decoration-color: #0087ff\">Conv2D</span>)                   │ (<span style=\"color: #00d7ff; text-decoration-color: #00d7ff\">None</span>, <span style=\"color: #00af00; text-decoration-color: #00af00\">32</span>, <span style=\"color: #00af00; text-decoration-color: #00af00\">32</span>, <span style=\"color: #00af00; text-decoration-color: #00af00\">256</span>)         │         <span style=\"color: #00af00; text-decoration-color: #00af00\">590,080</span> │\n",
              "├──────────────────────────────────────┼─────────────────────────────┼─────────────────┤\n",
              "│ max_pooling2d_2 (<span style=\"color: #0087ff; text-decoration-color: #0087ff\">MaxPooling2D</span>)       │ (<span style=\"color: #00d7ff; text-decoration-color: #00d7ff\">None</span>, <span style=\"color: #00af00; text-decoration-color: #00af00\">16</span>, <span style=\"color: #00af00; text-decoration-color: #00af00\">16</span>, <span style=\"color: #00af00; text-decoration-color: #00af00\">256</span>)         │               <span style=\"color: #00af00; text-decoration-color: #00af00\">0</span> │\n",
              "├──────────────────────────────────────┼─────────────────────────────┼─────────────────┤\n",
              "│ dropout_2 (<span style=\"color: #0087ff; text-decoration-color: #0087ff\">Dropout</span>)                  │ (<span style=\"color: #00d7ff; text-decoration-color: #00d7ff\">None</span>, <span style=\"color: #00af00; text-decoration-color: #00af00\">16</span>, <span style=\"color: #00af00; text-decoration-color: #00af00\">16</span>, <span style=\"color: #00af00; text-decoration-color: #00af00\">256</span>)         │               <span style=\"color: #00af00; text-decoration-color: #00af00\">0</span> │\n",
              "├──────────────────────────────────────┼─────────────────────────────┼─────────────────┤\n",
              "│ flatten (<span style=\"color: #0087ff; text-decoration-color: #0087ff\">Flatten</span>)                    │ (<span style=\"color: #00d7ff; text-decoration-color: #00d7ff\">None</span>, <span style=\"color: #00af00; text-decoration-color: #00af00\">65536</span>)               │               <span style=\"color: #00af00; text-decoration-color: #00af00\">0</span> │\n",
              "├──────────────────────────────────────┼─────────────────────────────┼─────────────────┤\n",
              "│ dense (<span style=\"color: #0087ff; text-decoration-color: #0087ff\">Dense</span>)                        │ (<span style=\"color: #00d7ff; text-decoration-color: #00d7ff\">None</span>, <span style=\"color: #00af00; text-decoration-color: #00af00\">512</span>)                 │      <span style=\"color: #00af00; text-decoration-color: #00af00\">33,554,944</span> │\n",
              "├──────────────────────────────────────┼─────────────────────────────┼─────────────────┤\n",
              "│ dense_1 (<span style=\"color: #0087ff; text-decoration-color: #0087ff\">Dense</span>)                      │ (<span style=\"color: #00d7ff; text-decoration-color: #00d7ff\">None</span>, <span style=\"color: #00af00; text-decoration-color: #00af00\">1024</span>)                │         <span style=\"color: #00af00; text-decoration-color: #00af00\">525,312</span> │\n",
              "├──────────────────────────────────────┼─────────────────────────────┼─────────────────┤\n",
              "│ dropout_3 (<span style=\"color: #0087ff; text-decoration-color: #0087ff\">Dropout</span>)                  │ (<span style=\"color: #00d7ff; text-decoration-color: #00d7ff\">None</span>, <span style=\"color: #00af00; text-decoration-color: #00af00\">1024</span>)                │               <span style=\"color: #00af00; text-decoration-color: #00af00\">0</span> │\n",
              "├──────────────────────────────────────┼─────────────────────────────┼─────────────────┤\n",
              "│ dense_2 (<span style=\"color: #0087ff; text-decoration-color: #0087ff\">Dense</span>)                      │ (<span style=\"color: #00d7ff; text-decoration-color: #00d7ff\">None</span>, <span style=\"color: #00af00; text-decoration-color: #00af00\">70</span>)                  │          <span style=\"color: #00af00; text-decoration-color: #00af00\">71,750</span> │\n",
              "└──────────────────────────────────────┴─────────────────────────────┴─────────────────┘\n",
              "</pre>\n"
            ]
          },
          "metadata": {}
        },
        {
          "output_type": "display_data",
          "data": {
            "text/plain": [
              "\u001b[1m Total params: \u001b[0m\u001b[38;5;34m36,558,662\u001b[0m (139.46 MB)\n"
            ],
            "text/html": [
              "<pre style=\"white-space:pre;overflow-x:auto;line-height:normal;font-family:Menlo,'DejaVu Sans Mono',consolas,'Courier New',monospace\"><span style=\"font-weight: bold\"> Total params: </span><span style=\"color: #00af00; text-decoration-color: #00af00\">36,558,662</span> (139.46 MB)\n",
              "</pre>\n"
            ]
          },
          "metadata": {}
        },
        {
          "output_type": "display_data",
          "data": {
            "text/plain": [
              "\u001b[1m Trainable params: \u001b[0m\u001b[38;5;34m36,558,662\u001b[0m (139.46 MB)\n"
            ],
            "text/html": [
              "<pre style=\"white-space:pre;overflow-x:auto;line-height:normal;font-family:Menlo,'DejaVu Sans Mono',consolas,'Courier New',monospace\"><span style=\"font-weight: bold\"> Trainable params: </span><span style=\"color: #00af00; text-decoration-color: #00af00\">36,558,662</span> (139.46 MB)\n",
              "</pre>\n"
            ]
          },
          "metadata": {}
        },
        {
          "output_type": "display_data",
          "data": {
            "text/plain": [
              "\u001b[1m Non-trainable params: \u001b[0m\u001b[38;5;34m0\u001b[0m (0.00 B)\n"
            ],
            "text/html": [
              "<pre style=\"white-space:pre;overflow-x:auto;line-height:normal;font-family:Menlo,'DejaVu Sans Mono',consolas,'Courier New',monospace\"><span style=\"font-weight: bold\"> Non-trainable params: </span><span style=\"color: #00af00; text-decoration-color: #00af00\">0</span> (0.00 B)\n",
              "</pre>\n"
            ]
          },
          "metadata": {}
        }
      ],
      "source": [
        "model.summary()"
      ]
    },
    {
      "cell_type": "code",
      "execution_count": null,
      "metadata": {
        "colab": {
          "base_uri": "https://localhost:8080/"
        },
        "id": "jTXlLYa9Uly-",
        "outputId": "e7c60c50-6b62-4e0a-a409-1d8278898d4b"
      },
      "outputs": [
        {
          "output_type": "stream",
          "name": "stdout",
          "text": [
            "Epoch 1/150\n",
            "\u001b[1m994/994\u001b[0m \u001b[32m━━━━━━━━━━━━━━━━━━━━\u001b[0m\u001b[37m\u001b[0m \u001b[1m0s\u001b[0m 141ms/step - accuracy: 0.0144 - loss: 4.2485\n",
            "Epoch 1: saving model to /content/drive/MyDrive/Colab Notebooks/Dog Breed Classification/checkpoints/last_epoch.keras\n",
            "\u001b[1m994/994\u001b[0m \u001b[32m━━━━━━━━━━━━━━━━━━━━\u001b[0m\u001b[37m\u001b[0m \u001b[1m179s\u001b[0m 158ms/step - accuracy: 0.0144 - loss: 4.2485 - val_accuracy: 0.0171 - val_loss: 4.2484\n",
            "Epoch 2/150\n",
            "\u001b[1m994/994\u001b[0m \u001b[32m━━━━━━━━━━━━━━━━━━━━\u001b[0m\u001b[37m\u001b[0m \u001b[1m0s\u001b[0m 129ms/step - accuracy: 0.0179 - loss: 4.2483\n",
            "Epoch 2: saving model to /content/drive/MyDrive/Colab Notebooks/Dog Breed Classification/checkpoints/last_epoch.keras\n",
            "\u001b[1m994/994\u001b[0m \u001b[32m━━━━━━━━━━━━━━━━━━━━\u001b[0m\u001b[37m\u001b[0m \u001b[1m168s\u001b[0m 140ms/step - accuracy: 0.0179 - loss: 4.2483 - val_accuracy: 0.0186 - val_loss: 4.2484\n",
            "Epoch 3/150\n",
            "\u001b[1m994/994\u001b[0m \u001b[32m━━━━━━━━━━━━━━━━━━━━\u001b[0m\u001b[37m\u001b[0m \u001b[1m0s\u001b[0m 126ms/step - accuracy: 0.0160 - loss: 4.2482\n",
            "Epoch 3: saving model to /content/drive/MyDrive/Colab Notebooks/Dog Breed Classification/checkpoints/last_epoch.keras\n",
            "\u001b[1m994/994\u001b[0m \u001b[32m━━━━━━━━━━━━━━━━━━━━\u001b[0m\u001b[37m\u001b[0m \u001b[1m138s\u001b[0m 137ms/step - accuracy: 0.0160 - loss: 4.2482 - val_accuracy: 0.0186 - val_loss: 4.2484\n",
            "Epoch 4/150\n",
            "\u001b[1m994/994\u001b[0m \u001b[32m━━━━━━━━━━━━━━━━━━━━\u001b[0m\u001b[37m\u001b[0m \u001b[1m0s\u001b[0m 127ms/step - accuracy: 0.0162 - loss: 4.2481\n",
            "Epoch 4: saving model to /content/drive/MyDrive/Colab Notebooks/Dog Breed Classification/checkpoints/last_epoch.keras\n",
            "\u001b[1m994/994\u001b[0m \u001b[32m━━━━━━━━━━━━━━━━━━━━\u001b[0m\u001b[37m\u001b[0m \u001b[1m133s\u001b[0m 134ms/step - accuracy: 0.0162 - loss: 4.2481 - val_accuracy: 0.0186 - val_loss: 4.2484\n",
            "Epoch 5/150\n",
            "\u001b[1m994/994\u001b[0m \u001b[32m━━━━━━━━━━━━━━━━━━━━\u001b[0m\u001b[37m\u001b[0m \u001b[1m0s\u001b[0m 127ms/step - accuracy: 0.0183 - loss: 4.2481\n",
            "Epoch 5: saving model to /content/drive/MyDrive/Colab Notebooks/Dog Breed Classification/checkpoints/last_epoch.keras\n",
            "\u001b[1m994/994\u001b[0m \u001b[32m━━━━━━━━━━━━━━━━━━━━\u001b[0m\u001b[37m\u001b[0m \u001b[1m141s\u001b[0m 133ms/step - accuracy: 0.0183 - loss: 4.2481 - val_accuracy: 0.0186 - val_loss: 4.2483\n",
            "Epoch 6/150\n",
            "\u001b[1m994/994\u001b[0m \u001b[32m━━━━━━━━━━━━━━━━━━━━\u001b[0m\u001b[37m\u001b[0m \u001b[1m0s\u001b[0m 127ms/step - accuracy: 0.0173 - loss: 4.2478\n",
            "Epoch 6: saving model to /content/drive/MyDrive/Colab Notebooks/Dog Breed Classification/checkpoints/last_epoch.keras\n",
            "\u001b[1m994/994\u001b[0m \u001b[32m━━━━━━━━━━━━━━━━━━━━\u001b[0m\u001b[37m\u001b[0m \u001b[1m134s\u001b[0m 135ms/step - accuracy: 0.0173 - loss: 4.2478 - val_accuracy: 0.0186 - val_loss: 4.2483\n",
            "Epoch 7/150\n",
            "\u001b[1m994/994\u001b[0m \u001b[32m━━━━━━━━━━━━━━━━━━━━\u001b[0m\u001b[37m\u001b[0m \u001b[1m0s\u001b[0m 128ms/step - accuracy: 0.0176 - loss: 4.2476\n",
            "Epoch 7: saving model to /content/drive/MyDrive/Colab Notebooks/Dog Breed Classification/checkpoints/last_epoch.keras\n",
            "\u001b[1m994/994\u001b[0m \u001b[32m━━━━━━━━━━━━━━━━━━━━\u001b[0m\u001b[37m\u001b[0m \u001b[1m142s\u001b[0m 135ms/step - accuracy: 0.0176 - loss: 4.2476 - val_accuracy: 0.0171 - val_loss: 4.2482\n",
            "Epoch 8/150\n",
            "\u001b[1m994/994\u001b[0m \u001b[32m━━━━━━━━━━━━━━━━━━━━\u001b[0m\u001b[37m\u001b[0m \u001b[1m0s\u001b[0m 126ms/step - accuracy: 0.0215 - loss: 4.2473\n",
            "Epoch 8: saving model to /content/drive/MyDrive/Colab Notebooks/Dog Breed Classification/checkpoints/last_epoch.keras\n",
            "\u001b[1m994/994\u001b[0m \u001b[32m━━━━━━━━━━━━━━━━━━━━\u001b[0m\u001b[37m\u001b[0m \u001b[1m133s\u001b[0m 134ms/step - accuracy: 0.0215 - loss: 4.2473 - val_accuracy: 0.0157 - val_loss: 4.2482\n",
            "Epoch 9/150\n",
            "\u001b[1m994/994\u001b[0m \u001b[32m━━━━━━━━━━━━━━━━━━━━\u001b[0m\u001b[37m\u001b[0m \u001b[1m0s\u001b[0m 127ms/step - accuracy: 0.0178 - loss: 4.2468\n",
            "Epoch 9: saving model to /content/drive/MyDrive/Colab Notebooks/Dog Breed Classification/checkpoints/last_epoch.keras\n",
            "\u001b[1m994/994\u001b[0m \u001b[32m━━━━━━━━━━━━━━━━━━━━\u001b[0m\u001b[37m\u001b[0m \u001b[1m133s\u001b[0m 133ms/step - accuracy: 0.0178 - loss: 4.2468 - val_accuracy: 0.0157 - val_loss: 4.2481\n",
            "Epoch 10/150\n",
            "\u001b[1m994/994\u001b[0m \u001b[32m━━━━━━━━━━━━━━━━━━━━\u001b[0m\u001b[37m\u001b[0m \u001b[1m0s\u001b[0m 126ms/step - accuracy: 0.0222 - loss: 4.2463\n",
            "Epoch 10: saving model to /content/drive/MyDrive/Colab Notebooks/Dog Breed Classification/checkpoints/last_epoch.keras\n",
            "\u001b[1m994/994\u001b[0m \u001b[32m━━━━━━━━━━━━━━━━━━━━\u001b[0m\u001b[37m\u001b[0m \u001b[1m132s\u001b[0m 132ms/step - accuracy: 0.0222 - loss: 4.2463 - val_accuracy: 0.0143 - val_loss: 4.2480\n",
            "Epoch 11/150\n",
            "\u001b[1m994/994\u001b[0m \u001b[32m━━━━━━━━━━━━━━━━━━━━\u001b[0m\u001b[37m\u001b[0m \u001b[1m0s\u001b[0m 127ms/step - accuracy: 0.0217 - loss: 4.2457\n",
            "Epoch 11: saving model to /content/drive/MyDrive/Colab Notebooks/Dog Breed Classification/checkpoints/last_epoch.keras\n",
            "\u001b[1m994/994\u001b[0m \u001b[32m━━━━━━━━━━━━━━━━━━━━\u001b[0m\u001b[37m\u001b[0m \u001b[1m143s\u001b[0m 133ms/step - accuracy: 0.0216 - loss: 4.2457 - val_accuracy: 0.0143 - val_loss: 4.2478\n",
            "Epoch 12/150\n",
            "\u001b[1m994/994\u001b[0m \u001b[32m━━━━━━━━━━━━━━━━━━━━\u001b[0m\u001b[37m\u001b[0m \u001b[1m0s\u001b[0m 126ms/step - accuracy: 0.0180 - loss: 4.2453\n",
            "Epoch 12: saving model to /content/drive/MyDrive/Colab Notebooks/Dog Breed Classification/checkpoints/last_epoch.keras\n",
            "\u001b[1m994/994\u001b[0m \u001b[32m━━━━━━━━━━━━━━━━━━━━\u001b[0m\u001b[37m\u001b[0m \u001b[1m141s\u001b[0m 132ms/step - accuracy: 0.0180 - loss: 4.2453 - val_accuracy: 0.0143 - val_loss: 4.2477\n",
            "Epoch 13/150\n",
            "\u001b[1m994/994\u001b[0m \u001b[32m━━━━━━━━━━━━━━━━━━━━\u001b[0m\u001b[37m\u001b[0m \u001b[1m0s\u001b[0m 127ms/step - accuracy: 0.0173 - loss: 4.2445\n",
            "Epoch 13: saving model to /content/drive/MyDrive/Colab Notebooks/Dog Breed Classification/checkpoints/last_epoch.keras\n",
            "\u001b[1m994/994\u001b[0m \u001b[32m━━━━━━━━━━━━━━━━━━━━\u001b[0m\u001b[37m\u001b[0m \u001b[1m134s\u001b[0m 135ms/step - accuracy: 0.0173 - loss: 4.2445 - val_accuracy: 0.0143 - val_loss: 4.2475\n",
            "Epoch 14/150\n",
            "\u001b[1m994/994\u001b[0m \u001b[32m━━━━━━━━━━━━━━━━━━━━\u001b[0m\u001b[37m\u001b[0m \u001b[1m0s\u001b[0m 126ms/step - accuracy: 0.0153 - loss: 4.2432\n",
            "Epoch 14: saving model to /content/drive/MyDrive/Colab Notebooks/Dog Breed Classification/checkpoints/last_epoch.keras\n",
            "\u001b[1m994/994\u001b[0m \u001b[32m━━━━━━━━━━━━━━━━━━━━\u001b[0m\u001b[37m\u001b[0m \u001b[1m132s\u001b[0m 132ms/step - accuracy: 0.0153 - loss: 4.2432 - val_accuracy: 0.0143 - val_loss: 4.2474\n",
            "Epoch 15/150\n",
            "\u001b[1m994/994\u001b[0m \u001b[32m━━━━━━━━━━━━━━━━━━━━\u001b[0m\u001b[37m\u001b[0m \u001b[1m0s\u001b[0m 127ms/step - accuracy: 0.0192 - loss: 4.2410\n",
            "Epoch 15: saving model to /content/drive/MyDrive/Colab Notebooks/Dog Breed Classification/checkpoints/last_epoch.keras\n",
            "\u001b[1m994/994\u001b[0m \u001b[32m━━━━━━━━━━━━━━━━━━━━\u001b[0m\u001b[37m\u001b[0m \u001b[1m142s\u001b[0m 133ms/step - accuracy: 0.0192 - loss: 4.2410 - val_accuracy: 0.0143 - val_loss: 4.2472\n",
            "Epoch 16/150\n",
            "\u001b[1m994/994\u001b[0m \u001b[32m━━━━━━━━━━━━━━━━━━━━\u001b[0m\u001b[37m\u001b[0m \u001b[1m0s\u001b[0m 126ms/step - accuracy: 0.0206 - loss: 4.2393\n",
            "Epoch 16: saving model to /content/drive/MyDrive/Colab Notebooks/Dog Breed Classification/checkpoints/last_epoch.keras\n",
            "\u001b[1m994/994\u001b[0m \u001b[32m━━━━━━━━━━━━━━━━━━━━\u001b[0m\u001b[37m\u001b[0m \u001b[1m132s\u001b[0m 132ms/step - accuracy: 0.0206 - loss: 4.2393 - val_accuracy: 0.0129 - val_loss: 4.2471\n",
            "Epoch 17/150\n",
            "\u001b[1m994/994\u001b[0m \u001b[32m━━━━━━━━━━━━━━━━━━━━\u001b[0m\u001b[37m\u001b[0m \u001b[1m0s\u001b[0m 127ms/step - accuracy: 0.0203 - loss: 4.2397\n",
            "Epoch 17: saving model to /content/drive/MyDrive/Colab Notebooks/Dog Breed Classification/checkpoints/last_epoch.keras\n",
            "\u001b[1m994/994\u001b[0m \u001b[32m━━━━━━━━━━━━━━━━━━━━\u001b[0m\u001b[37m\u001b[0m \u001b[1m144s\u001b[0m 134ms/step - accuracy: 0.0203 - loss: 4.2397 - val_accuracy: 0.0129 - val_loss: 4.2469\n",
            "Epoch 18/150\n",
            "\u001b[1m994/994\u001b[0m \u001b[32m━━━━━━━━━━━━━━━━━━━━\u001b[0m\u001b[37m\u001b[0m \u001b[1m0s\u001b[0m 127ms/step - accuracy: 0.0207 - loss: 4.2393\n",
            "Epoch 18: saving model to /content/drive/MyDrive/Colab Notebooks/Dog Breed Classification/checkpoints/last_epoch.keras\n",
            "\u001b[1m994/994\u001b[0m \u001b[32m━━━━━━━━━━━━━━━━━━━━\u001b[0m\u001b[37m\u001b[0m \u001b[1m132s\u001b[0m 133ms/step - accuracy: 0.0207 - loss: 4.2392 - val_accuracy: 0.0143 - val_loss: 4.2469\n",
            "Epoch 19/150\n",
            "\u001b[1m 72/994\u001b[0m \u001b[32m━\u001b[0m\u001b[37m━━━━━━━━━━━━━━━━━━━\u001b[0m \u001b[1m1:56\u001b[0m 127ms/step - accuracy: 0.0127 - loss: 4.2383"
          ]
        }
      ],
      "source": [
        "validation_steps = batch_size\n",
        "\n",
        "history = model.fit(\n",
        "    train_data,epochs=150,\n",
        "    validation_data=valid_data,\n",
        "    callbacks=[early_stop,save_last_epoch, SaveBestModel()]\n",
        ")"
      ]
    },
    {
      "cell_type": "code",
      "execution_count": null,
      "metadata": {
        "id": "Sm5LLiXdEnDr"
      },
      "outputs": [],
      "source": [
        "# #  Remove files from previous checkpoint\n",
        "# #  !!! Careful !!!\n",
        "# for file in os.listdir(save_path):\n",
        "#     os.remove(os.path.join(save_path,file))"
      ]
    },
    {
      "cell_type": "code",
      "execution_count": null,
      "metadata": {
        "id": "LEdb6OYjUly-"
      },
      "outputs": [],
      "source": [
        "#  Save the final model\n",
        "model.save(save_path+\"final_model.keras\")"
      ]
    },
    {
      "cell_type": "code",
      "execution_count": null,
      "metadata": {
        "id": "Z7IRxuyxUly-"
      },
      "outputs": [],
      "source": [
        "batch= test_batch.next()\n",
        "batch = batch[:16]\n",
        "res = model.predict(batch[0])\n",
        "\n",
        "fig,axes = plt.subplots(2,8,figsize=(12,5))\n",
        "plt.rcParams.update({'font.size': 6})\n",
        "for i,ax in enumerate(axes.flatten()):\n",
        "    true_label = res[i].argmax()\n",
        "    predicted = batch[1][i]\n",
        "    ax.imshow(batch[0][i])\n",
        "    ax.set_title(f\"Breed: \\n{test_data_names[true_label]}\")\n",
        "    ax.set_xlabel(f\"Predicted:\\n{test_data_names[predicted]}\")\n",
        "\n",
        "fig.tight_layout(h_pad=2,w_pad=3)\n",
        "plt.show()"
      ]
    },
    {
      "cell_type": "code",
      "execution_count": null,
      "metadata": {
        "id": "LgU33xvVUly_"
      },
      "outputs": [],
      "source": [
        "model.evaluate(test_data)"
      ]
    }
  ],
  "metadata": {
    "accelerator": "GPU",
    "colab": {
      "provenance": [],
      "include_colab_link": true
    },
    "kernelspec": {
      "display_name": "Python 3",
      "name": "python3"
    },
    "language_info": {
      "codemirror_mode": {
        "name": "ipython",
        "version": 3
      },
      "file_extension": ".py",
      "mimetype": "text/x-python",
      "name": "python",
      "nbconvert_exporter": "python",
      "pygments_lexer": "ipython3",
      "version": "3.11.3"
    }
  },
  "nbformat": 4,
  "nbformat_minor": 0
}