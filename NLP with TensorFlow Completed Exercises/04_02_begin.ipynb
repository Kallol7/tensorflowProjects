{
  "cells": [
    {
      "cell_type": "markdown",
      "metadata": {
        "colab_type": "text",
        "id": "view-in-github"
      },
      "source": [
        "<a href=\"https://colab.research.google.com/github/dswh/lil_nlp_with_tensorflow/blob/main/04_02_begin.ipynb\" target=\"_parent\"><img src=\"https://colab.research.google.com/assets/colab-badge.svg\" alt=\"Open In Colab\"/></a>"
      ]
    },
    {
      "cell_type": "markdown",
      "metadata": {
        "id": "lTguFckTEDWd"
      },
      "source": [
        "# Introduction to Text generation\n",
        "\n",
        "This notebook explains how we can split a given corpus of data into features and labels and then train a neural network to predict the next word in a sentence.\n",
        "\n",
        "1. Create a corpus - break the text down to list of sentences.\n",
        "2. Create a word_index(vocabulary) from the text.\n",
        "3. Tokenize the data and create n-gram sequence for each sequence of the corpus.\n",
        "4. Pad those sequences.\n",
        "5. Segregate features from the sequences by reserving the last element of the array as labels.\n"
      ]
    },
    {
      "cell_type": "code",
      "execution_count": 1,
      "metadata": {
        "id": "9mW3Mt2q5kL2"
      },
      "outputs": [
        {
          "name": "stdout",
          "output_type": "stream",
          "text": [
            "2.14.0\n"
          ]
        }
      ],
      "source": [
        "##import the required libraries and APIs\n",
        "import numpy as np\n",
        "import tensorflow as tf\n",
        "from tensorflow.keras.preprocessing.text import Tokenizer\n",
        "from tensorflow.keras.preprocessing.sequence import pad_sequences\n",
        "\n",
        "print(tf.__version__)"
      ]
    },
    {
      "cell_type": "markdown",
      "metadata": {
        "id": "QFhZpNjHoxSt"
      },
      "source": [
        "## Step 1: Create a corpus"
      ]
    },
    {
      "cell_type": "code",
      "execution_count": 2,
      "metadata": {
        "id": "CwT0yxfRgZY_"
      },
      "outputs": [],
      "source": [
        "data = \"October arrived, spreading a damp chill over the grounds and into the castle.\\n Madam Pomfrey, the nurse, was kept busy by a sudden spate of colds among the staff and students.\\n Her Pepperup potion worked instantly, though it left the drinker smoking at the ears for several hours afterward. Ginny Weasley, who had been looking pale, was bullied into taking some by Percy.\\n The steam pouring from under her vivid hair gave the impression that her whole head was on fire.\\n Raindrops the size of bullets thundered on the castle windows for days on end; the lake rose, the flower beds turned into muddy streams, and Hagrid's pumpkins swelled to the size of garden sheds.\\n Oliver Wood's enthusiasm for regular training sessions, however, was not dampened, which was why Harry was to be found, late one stormy Saturday afternoon a few days before Halloween, returning to Gryffindor Tower, drenched to the skin and splattered with mud.\"\n"
      ]
    },
    {
      "cell_type": "code",
      "execution_count": 3,
      "metadata": {
        "id": "EYtWr3OAoz53"
      },
      "outputs": [
        {
          "name": "stdout",
          "output_type": "stream",
          "text": [
            "['october arrived, spreading a damp chill over the grounds and into the castle.', ' madam pomfrey, the nurse, was kept busy by a sudden spate of colds among the staff and students.', ' her pepperup potion worked instantly, though it left the drinker smoking at the ears for several hours afterward. ginny weasley, who had been looking pale, was bullied into taking some by percy.', ' the steam pouring from under her vivid hair gave the impression that her whole head was on fire.', \" raindrops the size of bullets thundered on the castle windows for days on end; the lake rose, the flower beds turned into muddy streams, and hagrid's pumpkins swelled to the size of garden sheds.\", \" oliver wood's enthusiasm for regular training sessions, however, was not dampened, which was why harry was to be found, late one stormy saturday afternoon a few days before halloween, returning to gryffindor tower, drenched to the skin and splattered with mud.\"]\n"
          ]
        }
      ],
      "source": [
        "##instantiate tokenizer\n",
        "tokenizer = Tokenizer()\n",
        "\n",
        "##create corpus by lowering the letters and splitting the text by \\n\n",
        "corpus = data.lower().split(\"\\n\")\n",
        "print(corpus)"
      ]
    },
    {
      "cell_type": "markdown",
      "metadata": {
        "id": "1ce_7Op3eHPS"
      },
      "source": [
        "## Step 2: Train the tokenizer and create word encoding dictionary"
      ]
    },
    {
      "cell_type": "code",
      "execution_count": 4,
      "metadata": {
        "id": "aAoHN0Ar01tt"
      },
      "outputs": [
        {
          "name": "stdout",
          "output_type": "stream",
          "text": [
            "{'the': 1, 'was': 2, 'and': 3, 'to': 4, 'a': 5, 'into': 6, 'of': 7, 'her': 8, 'for': 9, 'on': 10, 'castle': 11, 'by': 12, 'size': 13, 'days': 14, 'october': 15, 'arrived': 16, 'spreading': 17, 'damp': 18, 'chill': 19, 'over': 20, 'grounds': 21, 'madam': 22, 'pomfrey': 23, 'nurse': 24, 'kept': 25, 'busy': 26, 'sudden': 27, 'spate': 28, 'colds': 29, 'among': 30, 'staff': 31, 'students': 32, 'pepperup': 33, 'potion': 34, 'worked': 35, 'instantly': 36, 'though': 37, 'it': 38, 'left': 39, 'drinker': 40, 'smoking': 41, 'at': 42, 'ears': 43, 'several': 44, 'hours': 45, 'afterward': 46, 'ginny': 47, 'weasley': 48, 'who': 49, 'had': 50, 'been': 51, 'looking': 52, 'pale': 53, 'bullied': 54, 'taking': 55, 'some': 56, 'percy': 57, 'steam': 58, 'pouring': 59, 'from': 60, 'under': 61, 'vivid': 62, 'hair': 63, 'gave': 64, 'impression': 65, 'that': 66, 'whole': 67, 'head': 68, 'fire': 69, 'raindrops': 70, 'bullets': 71, 'thundered': 72, 'windows': 73, 'end': 74, 'lake': 75, 'rose': 76, 'flower': 77, 'beds': 78, 'turned': 79, 'muddy': 80, 'streams': 81, \"hagrid's\": 82, 'pumpkins': 83, 'swelled': 84, 'garden': 85, 'sheds': 86, 'oliver': 87, \"wood's\": 88, 'enthusiasm': 89, 'regular': 90, 'training': 91, 'sessions': 92, 'however': 93, 'not': 94, 'dampened': 95, 'which': 96, 'why': 97, 'harry': 98, 'be': 99, 'found': 100, 'late': 101, 'one': 102, 'stormy': 103, 'saturday': 104, 'afternoon': 105, 'few': 106, 'before': 107, 'halloween': 108, 'returning': 109, 'gryffindor': 110, 'tower': 111, 'drenched': 112, 'skin': 113, 'splattered': 114, 'with': 115, 'mud': 116}\n",
            "117\n"
          ]
        }
      ],
      "source": [
        "tokenizer.fit_on_texts(corpus)\n",
        "\n",
        "##calculate vocabulary size - +1 for <oov> token\n",
        "vocab_size = len(tokenizer.word_index) + 1\n",
        "\n",
        "print(tokenizer.word_index)\n",
        "print(vocab_size)"
      ]
    },
    {
      "cell_type": "markdown",
      "metadata": {
        "id": "9t0633pzeA5y"
      },
      "source": [
        "## Step 3: Create N-gram sequence"
      ]
    },
    {
      "cell_type": "code",
      "execution_count": 5,
      "metadata": {
        "id": "3uEYLlk8ra-O"
      },
      "outputs": [],
      "source": [
        "##create n-gram sequences of each text sequence\n",
        "input_sequences = []\n",
        "for line in corpus:\n",
        "    tokens = tokenizer.texts_to_sequences([line])[0]  # get all the tokens of the sequence\n",
        "    for i in range(2, len(tokens)+1):  # create n-gram sequences\n",
        "        n_gram_sequence = tokens[:i]\n",
        "        input_sequences.append(n_gram_sequence)\n"
      ]
    },
    {
      "cell_type": "code",
      "execution_count": 6,
      "metadata": {
        "id": "1zzrLngux8Bd"
      },
      "outputs": [],
      "source": [
        "##pad sequences\n",
        "max_seq_len = max([len(i) for i in input_sequences])\n",
        "input_seq_array = np.array(pad_sequences(input_sequences,\n",
        "                                         maxlen=max_seq_len,\n",
        "                                         padding='pre')\n",
        "                        )\n"
      ]
    },
    {
      "cell_type": "code",
      "execution_count": 7,
      "metadata": {},
      "outputs": [
        {
          "data": {
            "text/plain": [
              "(150, 41)"
            ]
          },
          "execution_count": 7,
          "metadata": {},
          "output_type": "execute_result"
        }
      ],
      "source": [
        "np.shape(input_seq_array)"
      ]
    },
    {
      "cell_type": "markdown",
      "metadata": {
        "id": "WJiCqSqYeQDM"
      },
      "source": [
        "## Step 4: Extract features and labels"
      ]
    },
    {
      "cell_type": "code",
      "execution_count": 8,
      "metadata": {
        "id": "tTGbnKtG1zqD"
      },
      "outputs": [],
      "source": [
        "##creating features(X) and label(y)\n",
        "X = input_seq_array[:, :-1]\n",
        "labels = input_seq_array[:, -1]\n",
        "\n",
        "##one-hot encode the labels to get y\n",
        "y = tf.keras.utils.to_categorical(labels, num_classes=vocab_size)"
      ]
    },
    {
      "cell_type": "code",
      "execution_count": 9,
      "metadata": {},
      "outputs": [
        {
          "data": {
            "text/plain": [
              "(150, 117)"
            ]
          },
          "execution_count": 9,
          "metadata": {},
          "output_type": "execute_result"
        }
      ],
      "source": [
        "np.shape(y)"
      ]
    },
    {
      "cell_type": "code",
      "execution_count": 10,
      "metadata": {},
      "outputs": [
        {
          "data": {
            "text/plain": [
              "'october arrived, '"
            ]
          },
          "execution_count": 10,
          "metadata": {},
          "output_type": "execute_result"
        }
      ],
      "source": [
        "corpus[0][:17]"
      ]
    },
    {
      "cell_type": "code",
      "execution_count": 11,
      "metadata": {
        "id": "3X_GvVM22Wsm"
      },
      "outputs": [
        {
          "name": "stdout",
          "output_type": "stream",
          "text": [
            "15\n",
            "[ 0  0  0  0  0  0  0  0  0  0  0  0  0  0  0  0  0  0  0  0  0  0  0  0\n",
            "  0  0  0  0  0  0  0  0  0  0  0  0  0  0  0 15]\n",
            "\n",
            "[0. 0. 0. 0. 0. 0. 0. 0. 0. 0. 0. 0. 0. 0. 0. 0. 1. 0. 0. 0. 0. 0. 0. 0.\n",
            " 0. 0. 0. 0. 0. 0. 0. 0. 0. 0. 0. 0. 0. 0. 0. 0. 0. 0. 0. 0. 0. 0. 0. 0.\n",
            " 0. 0. 0. 0. 0. 0. 0. 0. 0. 0. 0. 0. 0. 0. 0. 0. 0. 0. 0. 0. 0. 0. 0. 0.\n",
            " 0. 0. 0. 0. 0. 0. 0. 0. 0. 0. 0. 0. 0. 0. 0. 0. 0. 0. 0. 0. 0. 0. 0. 0.\n",
            " 0. 0. 0. 0. 0. 0. 0. 0. 0. 0. 0. 0. 0. 0. 0. 0. 0. 0. 0. 0. 0.]\n",
            "16\n",
            "16\n"
          ]
        }
      ],
      "source": [
        "print(tokenizer.word_index['october'])\n",
        "print(X[0])\n",
        "print()\n",
        "\n",
        "print(y[0])\n",
        "print(np.argmax(y[0]))\n",
        "print(tokenizer.word_index['arrived'])"
      ]
    },
    {
      "cell_type": "markdown",
      "metadata": {
        "id": "lFLkSjPoeg-B"
      },
      "source": [
        "## Define the LSTM model"
      ]
    },
    {
      "cell_type": "code",
      "execution_count": 12,
      "metadata": {
        "id": "95bU1pLN5c0s"
      },
      "outputs": [],
      "source": [
        "model = tf.keras.Sequential([\n",
        "                tf.keras.layers.Embedding(vocab_size, 64, input_length=max_seq_len-1),\n",
        "                tf.keras.layers.Bidirectional(tf.keras.layers.LSTM(32)),\n",
        "                tf.keras.layers.Dense(vocab_size, activation='softmax')\n",
        "])\n",
        "\n",
        "# If your Y's are one-hot encoded, use categorical_crossentropy. Examples (for a 3-class classification): [1,0,0] , [0,1,0], [0,0,1]\n",
        "# But if your Y's are integers, use sparse_categorical_crossentropy. Examples for above 3-class classification problem: [1] , [2], [3]\n",
        "model.compile(loss=\"categorical_crossentropy\", optimizer='adam', metrics=['accuracy'])\n",
        "history = model.fit(X, y, epochs=500, verbose=0)"
      ]
    },
    {
      "cell_type": "markdown",
      "metadata": {
        "id": "IDpFBjlzm1Up"
      },
      "source": [
        "## Visualize metrics"
      ]
    },
    {
      "cell_type": "code",
      "execution_count": 13,
      "metadata": {
        "id": "tc7nqPbg5tBy"
      },
      "outputs": [],
      "source": [
        "import matplotlib.pyplot as plt\n",
        "\n",
        "def plot_metric(history, metric):\n",
        "  plt.plot(history.history[metric])\n",
        "  plt.xlabel(\"Epochs\")\n",
        "  plt.ylabel(metric)\n",
        "  plt.show()"
      ]
    },
    {
      "cell_type": "code",
      "execution_count": 14,
      "metadata": {
        "id": "hHHODnWIrobv"
      },
      "outputs": [
        {
          "data": {
            "image/png": "[encoded data removed]",
            "text/plain": [
              "<Figure size 640x480 with 1 Axes>"
            ]
          },
          "metadata": {},
          "output_type": "display_data"
        }
      ],
      "source": [
        "plot_metric(history, 'accuracy')"
      ]
    },
    {
      "cell_type": "markdown",
      "metadata": {
        "id": "6GLsNdvSm3uv"
      },
      "source": [
        "## Generate new text"
      ]
    },
    {
      "cell_type": "code",
      "execution_count": 15,
      "metadata": {
        "id": "db3z5YdkrtXI"
      },
      "outputs": [
        {
          "name": "stdout",
          "output_type": "stream",
          "text": [
            "It was a cold night. chill over the grounds and into the castle and into the castle and into beds turned into muddy streams and swelled to the hagrid's swelled to the size the size the tower drenched to the skin and splattered hagrid's mud gryffindor garden sheds afternoon mud a halloween splattered with mud mud mud mud mud mud mud mud saturday mud mud days on the end the splattered beds splattered hagrid's pumpkins with mud mud mud mud mud mud size mud mud mud mud mud end the castle windows splattered with mud mud mud mud mud bullied into taking some by percy\n"
          ]
        }
      ],
      "source": [
        "seed_text = \"It was a cold night.\"\n",
        "\n",
        "##add number of words you want to predict\n",
        "next_words = 100\n",
        "\n",
        "index_to_word = dict([(key,val) for (val,key) in tokenizer.word_index.items()])\n",
        "\n",
        "##run the loop to predict and concatenate the word\n",
        "for _ in range(next_words):\n",
        "\ttoken_list = tokenizer.texts_to_sequences([seed_text])[0]\n",
        "\ttoken_list = pad_sequences([token_list], maxlen=max_seq_len-1, padding='pre', truncating='pre')\n",
        " \n",
        "    ##predict the class using the trained model\n",
        "\tpredicted = model.predict(token_list, verbose=0)\n",
        "\toutput_word = index_to_word.get(np.argmax(predicted),'')\n",
        "\n",
        "\tseed_text += \" \" + output_word\n",
        "print(seed_text)"
      ]
    },
    {
      "cell_type": "code",
      "execution_count": null,
      "metadata": {
        "id": "Q-L6m0a6u14X"
      },
      "outputs": [],
      "source": []
    }
  ],
  "metadata": {
    "accelerator": "GPU",
    "colab": {
      "authorship_tag": "ABX9TyMuN4awaNnVTEn4aO8QlDbV",
      "collapsed_sections": [],
      "include_colab_link": true,
      "name": "04_02_begin.ipynb",
      "private_outputs": true,
      "provenance": []
    },
    "kernelspec": {
      "display_name": "Python 3",
      "name": "python3"
    },
    "language_info": {
      "codemirror_mode": {
        "name": "ipython",
        "version": 3
      },
      "file_extension": ".py",
      "mimetype": "text/x-python",
      "name": "python",
      "nbconvert_exporter": "python",
      "pygments_lexer": "ipython3",
      "version": "3.11.5"
    }
  },
  "nbformat": 4,
  "nbformat_minor": 0
}
